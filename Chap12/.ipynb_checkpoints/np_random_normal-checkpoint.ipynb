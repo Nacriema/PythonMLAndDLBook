{
 "cells": [
  {
   "cell_type": "markdown",
   "metadata": {},
   "source": [
    "# Numpy.random.normal\n",
    "\n",
    "Hàm đầy đủ: \n",
    "numpy.random.normal(loc=0.0, scale=1.0, size=None)\n",
    "\n",
    "Return:\n",
    "Tạo ra các samples tuân theo phân phối chuẩn (Gaussian)\n",
    "\n",
    "### Note:\n",
    "Hàm mật độ phân phối chuẩn Gauss:\n",
    "\n",
    "![](https://latex.codecogs.com/gif.latex?p%28x%29%20%3D%20%5Cfrac%7B1%7D%7B%5Csqrt%7B%202%20%5Cpi%20%5Csigma%5E2%20%7D%7D%20e%5E%7B%20-%20%5Cfrac%7B%20%28x%20-%20%5Cmu%29%5E2%20%7D%20%7B2%20%5Csigma%5E2%7D%20%7D)\n"
   ]
  },
  {
   "cell_type": "markdown",
   "metadata": {},
   "source": [
    "Với giá trị $\\mu$ là mean và $\\sigma$ là sd (độ lệch chuẩn). Bình phương của sd $\\sigma^{2}$được gọi là variance (phương sai).\n",
    "\n",
    "\n",
    "## Example:\n",
    "\n",
    "Vẽ samples thông qua phân phối chuẩn:\n"
   ]
  },
  {
   "cell_type": "code",
   "execution_count": 2,
   "metadata": {},
   "outputs": [],
   "source": [
    "import numpy as np \n",
    "\n",
    "mu, sigma = 0, 0.1 # mean và standard devitation\n",
    "s = np.random.normal(mu, sigma, 1000)"
   ]
  },
  {
   "cell_type": "markdown",
   "metadata": {},
   "source": [
    "Kiểm tra giá trị mean và variance tạo ra có thỏa mãn hay không:"
   ]
  },
  {
   "cell_type": "code",
   "execution_count": 5,
   "metadata": {},
   "outputs": [
    {
     "data": {
      "text/plain": [
       "True"
      ]
     },
     "execution_count": 5,
     "metadata": {},
     "output_type": "execute_result"
    }
   ],
   "source": [
    "abs(mu- np.mean(s)) < 0.01"
   ]
  },
  {
   "cell_type": "code",
   "execution_count": 6,
   "metadata": {},
   "outputs": [
    {
     "data": {
      "text/plain": [
       "True"
      ]
     },
     "execution_count": 6,
     "metadata": {},
     "output_type": "execute_result"
    }
   ],
   "source": [
    "abs(sigma - np.std(s, ddof=1)) < 0.01"
   ]
  },
  {
   "cell_type": "markdown",
   "metadata": {},
   "source": [
    "Hiển thị histogram của mẫu, kèm theo hàm mật độ phân phối xác suất:"
   ]
  },
  {
   "cell_type": "code",
   "execution_count": 7,
   "metadata": {},
   "outputs": [
    {
     "data": {
      "image/png": "[encoded data removed]",
      "text/plain": [
       "<Figure size 432x288 with 1 Axes>"
      ]
     },
     "metadata": {
      "needs_background": "light"
     },
     "output_type": "display_data"
    }
   ],
   "source": [
    "import matplotlib.pyplot as plt\n",
    "\n",
    "count, bins, ignored = plt.hist(s, 30, density=True)\n",
    "plt.plot(bins, 1/(sigma * np.sqrt(2 * np.pi)) * np.exp(-(bins - mu) ** 2/ (2 * sigma**2)), linewidth=2, color='r')\n",
    "plt.show()"
   ]
  },
  {
   "cell_type": "code",
   "execution_count": null,
   "metadata": {},
   "outputs": [],
   "source": []
  }
 ],
 "metadata": {
  "kernelspec": {
   "display_name": "env3",
   "language": "python",
   "name": "env3"
  },
  "language_info": {
   "codemirror_mode": {
    "name": "ipython",
    "version": 3
   },
   "file_extension": ".py",
   "mimetype": "text/x-python",
   "name": "python",
   "nbconvert_exporter": "python",
   "pygments_lexer": "ipython3",
   "version": "3.6.9"
  }
 },
 "nbformat": 4,
 "nbformat_minor": 2
}
