{
 "cells": [
  {
   "cell_type": "markdown",
   "metadata": {},
   "source": [
    "Link bài viết: https://seaborn.pydata.org/introduction.html\n",
    "\n",
    "Seaborn là thư viện để tạo đồ họa thống kê trong Python. Nó được xây dựng dựa trên matplotlib và được tích hợp gần với dữ liệu của pandas.\n",
    "\n",
    "Một vài chức năng mà seaborn có :"
   ]
  }
 ],
 "metadata": {
  "kernelspec": {
   "display_name": "env3",
   "language": "python",
   "name": "env3"
  },
  "language_info": {
   "codemirror_mode": {
    "name": "ipython",
    "version": 3
   },
   "file_extension": ".py",
   "mimetype": "text/x-python",
   "name": "python",
   "nbconvert_exporter": "python",
   "pygments_lexer": "ipython3",
   "version": "3.6.9"
  }
 },
 "nbformat": 4,
 "nbformat_minor": 2
}
