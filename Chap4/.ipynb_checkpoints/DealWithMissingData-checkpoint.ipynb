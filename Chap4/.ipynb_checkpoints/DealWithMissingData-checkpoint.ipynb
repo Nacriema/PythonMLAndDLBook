{
 "cells": [
  {
   "cell_type": "markdown",
   "metadata": {},
   "source": [
    "# Dealing with missing data\n",
    "\n",
    "Đây không phải là một vấn đề hiếm trong thực tế khi mà dữ liệu train của chúng ta bị mất một hoặc nhiều giá trị khác nhau do nhiều nguyên nhân. Có thể là do một lỗi trong qúa trình thu thập dữ liệu, một số phép đo không thể thực hiện được, hoặc một vài trường có thể bị bỏ trống, ví dụ như một phiếu khảo sát chẳng hạn. Ta thông thường thấy những dữ liệu bị mất đó phần lớn là những khoảng trống hoặc là những chuỗi ký hiệu như là NaN (Not a number), hoặc là NULL(biến chỉ giá trị không biết trong bảng dữ liệu quan hệ). Không may là phần lớn các tool tính toán không thể xử lý những điểm dữ liệu mất này được hoặc nó sẽ cho ra kết quả là không dự đón được kết quả nếu ta bỏ qua chúng. Do đó, điều cần thiết là phải để ý đến những giá trị khuyết này trước khi ta tiến hành những bước tiếp theo được.\n",
    "Trong phần này, ta sẽ tìm hiểu một vài thao tác để đối phó với việc thiếu dữ liệu bằng cách loại bỏ những điểm trong dữ liệu hoặc là bỏ thêm những gía trị từ những mấu training example và features khác.\n",
    "\n",
    "## Identifying missing values in tabular data\n",
    "\n",
    "Trước khi thảo luận những kỹ thuật khác nhau đối phó với thiếu dữ liệu, giờ tạo một data frame đơn giản từ file **Comma-separated values (CSV)** để có được cái nhìn về vấn đề thiếu dữ liệu này:\n",
    "\n"
   ]
  },
  {
   "cell_type": "code",
   "execution_count": 2,
   "metadata": {},
   "outputs": [
    {
     "name": "stdout",
     "output_type": "stream",
     "text": [
      "      A     B     C    D\n",
      "0   1.0   2.0   3.0  4.0\n",
      "1   5.0   6.0   NaN  8.0\n",
      "2  10.0  11.0  12.0  NaN\n"
     ]
    }
   ],
   "source": [
    "import pandas as pd\n",
    "from io import StringIO\n",
    "\n",
    "\n",
    "csv_data = \\\n",
    "    '''A,B,C,D\n",
    "    1.0,2.0,3.0,4.0\n",
    "    5.0,6.0,,8.0\n",
    "    10.0,11.0,12.0,'''\n",
    "\n",
    "# Nếu như dùng Python 2.7 thì mình phải convert string sang unicode:\n",
    "# csv_data = unicode(csv_data)\n",
    "df = pd.read_csv(StringIO(csv_data))\n",
    "print(df)"
   ]
  },
  {
   "cell_type": "markdown",
   "metadata": {},
   "source": [
    "Sử dụng phương thức read_csv để đọc dữ liệu CSV vào trong pandas DataFame và những ô bị trống sẽ được tự động điền giá trị NaN. Hàm StringIO cho phép ta đọc chuỗi string csv_data thành CSV file.\n",
    "\n",
    "Đối với một bảng DataFrame lớn; ta có thể đếm số dữ liệu bị thiếu tại các cột của dữ liệu này. Ta sử dụng phương thức isnull để tham chiếu ra một bảng mới với dữ liệu có 2 kiểu là True, False. Với True tại các cells không rỗng và False tại cell rỗng hoặc NaN. Sau đó dùng phương thức sum() để đếm những điểm dị biệt tại các cột đó."
   ]
  },
  {
   "cell_type": "code",
   "execution_count": 5,
   "metadata": {},
   "outputs": [
    {
     "data": {
      "text/plain": [
       "A    0\n",
       "B    0\n",
       "C    1\n",
       "D    1\n",
       "dtype: int64"
      ]
     },
     "execution_count": 5,
     "metadata": {},
     "output_type": "execute_result"
    }
   ],
   "source": [
    "df.isnull().sum()"
   ]
  },
  {
   "cell_type": "markdown",
   "metadata": {},
   "source": [
    "### Convenient data handling with pandas data frame \n",
    "\n",
    "Đôi khi là sẽ tiện hơn khi mình tiền xử lý dữ liệu với DataFrame. Hiện nay, mặc dù sklearn cũng hỗ trợ dữ liệu DataFrame làm đầu vào, nhưng mà NumPy vẫn là sử lý tốt nhất trong sklearn, và lời khuyên là nên sử dụng NumPy với sklearn. Chú ý là ta có thể lấy được dữ liệu của DataFrame dưới dạng mảng NumPy bằng thuộc tính values của nó: \n"
   ]
  },
  {
   "cell_type": "code",
   "execution_count": 3,
   "metadata": {},
   "outputs": [
    {
     "data": {
      "text/plain": [
       "array([[ 1.,  2.,  3.,  4.],\n",
       "       [ 5.,  6., nan,  8.],\n",
       "       [10., 11., 12., nan]])"
      ]
     },
     "execution_count": 3,
     "metadata": {},
     "output_type": "execute_result"
    }
   ],
   "source": [
    "df.values"
   ]
  },
  {
   "cell_type": "markdown",
   "metadata": {},
   "source": [
    "## Eliminating training examples or features with missing values\n",
    "\n",
    "Một trong những cách đơn giản nhất để đối mặt với thiếu dữ liệu đó là xóa những features (xóa cột) hoặc là các training examples (xóa hàng) từ dữ liệu thông qua phương thức dropna trong DataFrame:\n",
    "\n",
    "Ta có thể xóa hàng: set tham số axis = 0\n"
   ]
  },
  {
   "cell_type": "code",
   "execution_count": 4,
   "metadata": {},
   "outputs": [
    {
     "data": {
      "text/html": [
       "<div>\n",
       "<style scoped>\n",
       "    .dataframe tbody tr th:only-of-type {\n",
       "        vertical-align: middle;\n",
       "    }\n",
       "\n",
       "    .dataframe tbody tr th {\n",
       "        vertical-align: top;\n",
       "    }\n",
       "\n",
       "    .dataframe thead th {\n",
       "        text-align: right;\n",
       "    }\n",
       "</style>\n",
       "<table border=\"1\" class=\"dataframe\">\n",
       "  <thead>\n",
       "    <tr style=\"text-align: right;\">\n",
       "      <th></th>\n",
       "      <th>A</th>\n",
       "      <th>B</th>\n",
       "      <th>C</th>\n",
       "      <th>D</th>\n",
       "    </tr>\n",
       "  </thead>\n",
       "  <tbody>\n",
       "    <tr>\n",
       "      <th>0</th>\n",
       "      <td>1.0</td>\n",
       "      <td>2.0</td>\n",
       "      <td>3.0</td>\n",
       "      <td>4.0</td>\n",
       "    </tr>\n",
       "  </tbody>\n",
       "</table>\n",
       "</div>"
      ],
      "text/plain": [
       "     A    B    C    D\n",
       "0  1.0  2.0  3.0  4.0"
      ]
     },
     "execution_count": 4,
     "metadata": {},
     "output_type": "execute_result"
    }
   ],
   "source": [
    "df.dropna(axis=0)\n"
   ]
  },
  {
   "cell_type": "code",
   "execution_count": 6,
   "metadata": {},
   "outputs": [
    {
     "data": {
      "text/html": [
       "<div>\n",
       "<style scoped>\n",
       "    .dataframe tbody tr th:only-of-type {\n",
       "        vertical-align: middle;\n",
       "    }\n",
       "\n",
       "    .dataframe tbody tr th {\n",
       "        vertical-align: top;\n",
       "    }\n",
       "\n",
       "    .dataframe thead th {\n",
       "        text-align: right;\n",
       "    }\n",
       "</style>\n",
       "<table border=\"1\" class=\"dataframe\">\n",
       "  <thead>\n",
       "    <tr style=\"text-align: right;\">\n",
       "      <th></th>\n",
       "      <th>A</th>\n",
       "      <th>B</th>\n",
       "    </tr>\n",
       "  </thead>\n",
       "  <tbody>\n",
       "    <tr>\n",
       "      <th>0</th>\n",
       "      <td>1.0</td>\n",
       "      <td>2.0</td>\n",
       "    </tr>\n",
       "    <tr>\n",
       "      <th>1</th>\n",
       "      <td>5.0</td>\n",
       "      <td>6.0</td>\n",
       "    </tr>\n",
       "    <tr>\n",
       "      <th>2</th>\n",
       "      <td>10.0</td>\n",
       "      <td>11.0</td>\n",
       "    </tr>\n",
       "  </tbody>\n",
       "</table>\n",
       "</div>"
      ],
      "text/plain": [
       "      A     B\n",
       "0   1.0   2.0\n",
       "1   5.0   6.0\n",
       "2  10.0  11.0"
      ]
     },
     "execution_count": 6,
     "metadata": {},
     "output_type": "execute_result"
    }
   ],
   "source": [
    "# Ta cũng có thể xóa cột bằng cách cho axis = 1\n",
    "df.dropna(axis=1)"
   ]
  },
  {
   "cell_type": "code",
   "execution_count": 7,
   "metadata": {},
   "outputs": [
    {
     "data": {
      "text/html": [
       "<div>\n",
       "<style scoped>\n",
       "    .dataframe tbody tr th:only-of-type {\n",
       "        vertical-align: middle;\n",
       "    }\n",
       "\n",
       "    .dataframe tbody tr th {\n",
       "        vertical-align: top;\n",
       "    }\n",
       "\n",
       "    .dataframe thead th {\n",
       "        text-align: right;\n",
       "    }\n",
       "</style>\n",
       "<table border=\"1\" class=\"dataframe\">\n",
       "  <thead>\n",
       "    <tr style=\"text-align: right;\">\n",
       "      <th></th>\n",
       "      <th>A</th>\n",
       "      <th>B</th>\n",
       "      <th>C</th>\n",
       "      <th>D</th>\n",
       "    </tr>\n",
       "  </thead>\n",
       "  <tbody>\n",
       "    <tr>\n",
       "      <th>0</th>\n",
       "      <td>1.0</td>\n",
       "      <td>2.0</td>\n",
       "      <td>3.0</td>\n",
       "      <td>4.0</td>\n",
       "    </tr>\n",
       "    <tr>\n",
       "      <th>1</th>\n",
       "      <td>5.0</td>\n",
       "      <td>6.0</td>\n",
       "      <td>NaN</td>\n",
       "      <td>8.0</td>\n",
       "    </tr>\n",
       "    <tr>\n",
       "      <th>2</th>\n",
       "      <td>10.0</td>\n",
       "      <td>11.0</td>\n",
       "      <td>12.0</td>\n",
       "      <td>NaN</td>\n",
       "    </tr>\n",
       "  </tbody>\n",
       "</table>\n",
       "</div>"
      ],
      "text/plain": [
       "      A     B     C    D\n",
       "0   1.0   2.0   3.0  4.0\n",
       "1   5.0   6.0   NaN  8.0\n",
       "2  10.0  11.0  12.0  NaN"
      ]
     },
     "execution_count": 7,
     "metadata": {},
     "output_type": "execute_result"
    }
   ],
   "source": [
    "# Ngoài ra ta có thêm nhiều tham số khác để chọn kiểu xóa\n",
    "# Xóa những hàng mà các thuộc tính của hàng đó là NaN\n",
    "df.dropna(how='all')"
   ]
  },
  {
   "cell_type": "code",
   "execution_count": 8,
   "metadata": {},
   "outputs": [
    {
     "data": {
      "text/html": [
       "<div>\n",
       "<style scoped>\n",
       "    .dataframe tbody tr th:only-of-type {\n",
       "        vertical-align: middle;\n",
       "    }\n",
       "\n",
       "    .dataframe tbody tr th {\n",
       "        vertical-align: top;\n",
       "    }\n",
       "\n",
       "    .dataframe thead th {\n",
       "        text-align: right;\n",
       "    }\n",
       "</style>\n",
       "<table border=\"1\" class=\"dataframe\">\n",
       "  <thead>\n",
       "    <tr style=\"text-align: right;\">\n",
       "      <th></th>\n",
       "      <th>A</th>\n",
       "      <th>B</th>\n",
       "      <th>C</th>\n",
       "      <th>D</th>\n",
       "    </tr>\n",
       "  </thead>\n",
       "  <tbody>\n",
       "    <tr>\n",
       "      <th>0</th>\n",
       "      <td>1.0</td>\n",
       "      <td>2.0</td>\n",
       "      <td>3.0</td>\n",
       "      <td>4.0</td>\n",
       "    </tr>\n",
       "  </tbody>\n",
       "</table>\n",
       "</div>"
      ],
      "text/plain": [
       "     A    B    C    D\n",
       "0  1.0  2.0  3.0  4.0"
      ]
     },
     "execution_count": 8,
     "metadata": {},
     "output_type": "execute_result"
    }
   ],
   "source": [
    "# Xóa hàng mà có ít hơn 4 giá trị thực\n",
    "df.dropna(thresh=4)"
   ]
  },
  {
   "cell_type": "code",
   "execution_count": 9,
   "metadata": {},
   "outputs": [
    {
     "data": {
      "text/html": [
       "<div>\n",
       "<style scoped>\n",
       "    .dataframe tbody tr th:only-of-type {\n",
       "        vertical-align: middle;\n",
       "    }\n",
       "\n",
       "    .dataframe tbody tr th {\n",
       "        vertical-align: top;\n",
       "    }\n",
       "\n",
       "    .dataframe thead th {\n",
       "        text-align: right;\n",
       "    }\n",
       "</style>\n",
       "<table border=\"1\" class=\"dataframe\">\n",
       "  <thead>\n",
       "    <tr style=\"text-align: right;\">\n",
       "      <th></th>\n",
       "      <th>A</th>\n",
       "      <th>B</th>\n",
       "      <th>C</th>\n",
       "      <th>D</th>\n",
       "    </tr>\n",
       "  </thead>\n",
       "  <tbody>\n",
       "    <tr>\n",
       "      <th>0</th>\n",
       "      <td>1.0</td>\n",
       "      <td>2.0</td>\n",
       "      <td>3.0</td>\n",
       "      <td>4.0</td>\n",
       "    </tr>\n",
       "    <tr>\n",
       "      <th>2</th>\n",
       "      <td>10.0</td>\n",
       "      <td>11.0</td>\n",
       "      <td>12.0</td>\n",
       "      <td>NaN</td>\n",
       "    </tr>\n",
       "  </tbody>\n",
       "</table>\n",
       "</div>"
      ],
      "text/plain": [
       "      A     B     C    D\n",
       "0   1.0   2.0   3.0  4.0\n",
       "2  10.0  11.0  12.0  NaN"
      ]
     },
     "execution_count": 9,
     "metadata": {},
     "output_type": "execute_result"
    }
   ],
   "source": [
    "# Xoa hàng khi mà NaN xuất hiện tại cột cụ thể nào đó trong dữ liệu\n",
    "df.dropna(subset=['C'])"
   ]
  },
  {
   "cell_type": "markdown",
   "metadata": {},
   "source": [
    "Mặc dù xóa những điểm mất dữ liệu là phương pháp tiện lợi, nhưng nó vẫn dẫn đến những bất lợi; ví dụ, ta có thế xóa đi quá nhiều mẫu, làm cho việc phân tích dựa trên dữ liệu khó có thể đạt được. Hoặc là nếu ta bỏ đi quá nhiều features, sẽ dẫn đến việc mất đi những gía trị cần thiết để có thể phân biệt được giữa các lớp với nhau. Trong phần sau, sẽ nói về phương pháp khác để đối mặt với nó, gọi là kỹ thuật nội suy **interpolation techniques**."
   ]
  },
  {
   "cell_type": "markdown",
   "metadata": {},
   "source": [
    "## Imputing missing values\n",
    "\n",
    "Thông thường xóa bỏ các mẫu hoặc các features là không khả dĩ, bởi vì ta có thể bỏ mất đi rất nhiều dữ liệu. Trong trường hợp này ta sử dụng các kỹ thuật nội suy khác nhau để ước lượng các giá trị bị mất từ các mẫu hiện có trong dữ liệu của mình. Một trong những phương pháp nội suy phổ biến nhất gọi là **mean imputation**, ta đơn giản là thay thế giá trị bị mất bằng giá trị trung bình của toàn bộ cột. Cách đơn giản để thực hiện là import SingleImputer class từ thư viên Sklearn, được thực hiện như sau: \n",
    "\n"
   ]
  },
  {
   "cell_type": "code",
   "execution_count": 10,
   "metadata": {},
   "outputs": [
    {
     "data": {
      "text/plain": [
       "array([[ 1. ,  2. ,  3. ,  4. ],\n",
       "       [ 5. ,  6. ,  7.5,  8. ],\n",
       "       [10. , 11. , 12. ,  6. ]])"
      ]
     },
     "execution_count": 10,
     "metadata": {},
     "output_type": "execute_result"
    }
   ],
   "source": [
    "from sklearn.impute import SimpleImputer\n",
    "import numpy as np\n",
    "\n",
    "imr = SimpleImputer(missing_values=np.nan, strategy='mean')\n",
    "imr = imr.fit(df.values)\n",
    "imputed_data = imr.transform(df.values)\n",
    "imputed_data"
   ]
  },
  {
   "cell_type": "markdown",
   "metadata": {},
   "source": [
    "Ta đã thay thế giá trị NaN bởi giá trị mean tương ứng của cột. Một options cho tham số strategy đó là median hoặc là most_frequent, khi mà giá trị thiếu sẽ đc thay thế bằng giá trị median hoặc là mode của cái cột thuộc tính. Những hàm này rất là hữu dụng khi mà điền vào nó những giá trị kiểu **categorical**, ví dụ như trong bảng có cột mang tên là **clolor** và trong cột đó chứa các thuộc tính là red, green, blue,... Ta sẽ bắt gặp kiểu dữ liệu này trong phần sau.\n",
    "\n",
    "Cách khác, ta có thể điền giá trị thiếu vào bằng hàm **fillna** trong\n",
    "và thêm vào đó một method imputation như là một tham số. Ta có thể làm như sau:\n"
   ]
  },
  {
   "cell_type": "code",
   "execution_count": 3,
   "metadata": {},
   "outputs": [
    {
     "data": {
      "text/html": [
       "<div>\n",
       "<style scoped>\n",
       "    .dataframe tbody tr th:only-of-type {\n",
       "        vertical-align: middle;\n",
       "    }\n",
       "\n",
       "    .dataframe tbody tr th {\n",
       "        vertical-align: top;\n",
       "    }\n",
       "\n",
       "    .dataframe thead th {\n",
       "        text-align: right;\n",
       "    }\n",
       "</style>\n",
       "<table border=\"1\" class=\"dataframe\">\n",
       "  <thead>\n",
       "    <tr style=\"text-align: right;\">\n",
       "      <th></th>\n",
       "      <th>A</th>\n",
       "      <th>B</th>\n",
       "      <th>C</th>\n",
       "      <th>D</th>\n",
       "    </tr>\n",
       "  </thead>\n",
       "  <tbody>\n",
       "    <tr>\n",
       "      <th>0</th>\n",
       "      <td>1.0</td>\n",
       "      <td>2.0</td>\n",
       "      <td>3.0</td>\n",
       "      <td>4.0</td>\n",
       "    </tr>\n",
       "    <tr>\n",
       "      <th>1</th>\n",
       "      <td>5.0</td>\n",
       "      <td>6.0</td>\n",
       "      <td>7.5</td>\n",
       "      <td>8.0</td>\n",
       "    </tr>\n",
       "    <tr>\n",
       "      <th>2</th>\n",
       "      <td>10.0</td>\n",
       "      <td>11.0</td>\n",
       "      <td>12.0</td>\n",
       "      <td>6.0</td>\n",
       "    </tr>\n",
       "  </tbody>\n",
       "</table>\n",
       "</div>"
      ],
      "text/plain": [
       "      A     B     C    D\n",
       "0   1.0   2.0   3.0  4.0\n",
       "1   5.0   6.0   7.5  8.0\n",
       "2  10.0  11.0  12.0  6.0"
      ]
     },
     "execution_count": 3,
     "metadata": {},
     "output_type": "execute_result"
    }
   ],
   "source": [
    "df.fillna(df.mean())"
   ]
  },
  {
   "cell_type": "markdown",
   "metadata": {},
   "source": [
    "## Understanding the sklearn estimator API \n",
    "\n",
    "Trong phần trước, ta sử dụng class SimpleImputer từ thư viện sklearn để điền các giá trị thiếu vào trong dataset. Lớp SimpleImputer nó thuộc vào các lớp **transformer** trong sklearn, các lớp này được dùng cho việc biến đổi dữ liệu. Hai methods cần thiết cho các estimators là fit và transform. Fit method dùng để học ác tham số từ dữ liệu training data, và phương thức transform sử dụng những tham số này để biến đổi dữ liệu. Tất cả những dữ liệu nào cần được biến đổi cần phải có số features tương tự như dữ liệu mà ta dùng để fit vào trong model.\n",
    "\n",
    "Hình bên dưới mô tả cách mà transformer fit vào dữ liệu training data, được dùng để biến đổi tập training dataset cũng như là tạo ra tập test dataset mới:\n",
    "\n",
    "![](pic1.png)"
   ]
  },
  {
   "cell_type": "markdown",
   "metadata": {},
   "source": [
    "Những cái phân loại được dùng trong chương 3 được gọi là **estimator** trong sklearn, với API tương tự như là class **transformer**. Estimators có phương thức predict cũng như là phương thức transform, ta có thể thấy điều đó tại phần sau của chương này. Ta cũng có thể sử dụng method fit để học các tham số cho model khi chúng ta train các estimators cho việc phân loại. Tuy nhiên, trong học giám sát **supervised learning** thì ta thêm vào các class labels cho việc fitting model, model có thể được sử dụng để dự đoán các dữ liệu mới, chưa được gán nhãn thông qua phương thức predict, được miêu tả trong hình bên dưới: \n",
    "\n",
    "![](pic2.png)"
   ]
  },
  {
   "cell_type": "markdown",
   "metadata": {},
   "source": [
    "## Handling categorical data\n",
    "\n",
    "Ta đã làm việc với những dữ liệu kiểu số. Tuy nhiên, nó không phải là kiểu dữ liệu phổ biến, thực tế thì nó có chứa một hoặc nhiều feature có kiểu dữ liệu categorical. Trong phần này, ta sẽ có một ví dụ đơn giản để tìm hiểu cách tiếp cận đối với những kiểu dữ liệu kiểu này trong các thư viện sử dụng tính toán số học.\n",
    "\n",
    "Khi nói về dữ liệu phân loại, ta cần phải phân biệt được **ordinal** và **nominal** features. Các thuộc tính **ordinal** có thể được hiểu là các giá trị categorical có thể được sắp xếp theo thứ tự. Ví dụ, cỡ áo T-shirt là một **ordinal** feature, bởi vì chúng ta có thể sắp xếp chúng theo thứ tự: XL > L > M. Ngược lại, thuộc tính **nominal** không tồn tại thứ tự nào, và ví dụ là màu áo T-shirt là một ví dụ cho **nominal** feature bởi vì màu sắc thì đâu có thể so sánh được.\n",
    "\n"
   ]
  },
  {
   "cell_type": "markdown",
   "metadata": {},
   "source": [
    "## Categorical data encoding with pandas\n",
    "\n",
    "Trước khi tìm hiểu các kỹ thuật khác nhau cho dữ liệu categorical, ta tạo một DataFrame mới để minh hoạ cho vấn đề: \n",
    "\n"
   ]
  },
  {
   "cell_type": "code",
   "execution_count": 1,
   "metadata": {},
   "outputs": [
    {
     "data": {
      "text/html": [
       "<div>\n",
       "<style scoped>\n",
       "    .dataframe tbody tr th:only-of-type {\n",
       "        vertical-align: middle;\n",
       "    }\n",
       "\n",
       "    .dataframe tbody tr th {\n",
       "        vertical-align: top;\n",
       "    }\n",
       "\n",
       "    .dataframe thead th {\n",
       "        text-align: right;\n",
       "    }\n",
       "</style>\n",
       "<table border=\"1\" class=\"dataframe\">\n",
       "  <thead>\n",
       "    <tr style=\"text-align: right;\">\n",
       "      <th></th>\n",
       "      <th>colors</th>\n",
       "      <th>size</th>\n",
       "      <th>price</th>\n",
       "      <th>classlabel</th>\n",
       "    </tr>\n",
       "  </thead>\n",
       "  <tbody>\n",
       "    <tr>\n",
       "      <th>0</th>\n",
       "      <td>green</td>\n",
       "      <td>M</td>\n",
       "      <td>10.1</td>\n",
       "      <td>class2</td>\n",
       "    </tr>\n",
       "    <tr>\n",
       "      <th>1</th>\n",
       "      <td>red</td>\n",
       "      <td>L</td>\n",
       "      <td>13.5</td>\n",
       "      <td>class1</td>\n",
       "    </tr>\n",
       "    <tr>\n",
       "      <th>2</th>\n",
       "      <td>blue</td>\n",
       "      <td>XL</td>\n",
       "      <td>15.3</td>\n",
       "      <td>class2</td>\n",
       "    </tr>\n",
       "  </tbody>\n",
       "</table>\n",
       "</div>"
      ],
      "text/plain": [
       "  colors size  price classlabel\n",
       "0  green    M   10.1     class2\n",
       "1    red    L   13.5     class1\n",
       "2   blue   XL   15.3     class2"
      ]
     },
     "execution_count": 1,
     "metadata": {},
     "output_type": "execute_result"
    }
   ],
   "source": [
    "import pandas as pd \n",
    "df = pd.DataFrame([\n",
    "    ['green', 'M', 10.1, 'class2'],\n",
    "    ['red', 'L', 13.5, 'class1'],\n",
    "    ['blue', 'XL', 15.3, 'class2']])\n",
    "df.columns = ['colors', 'size', 'price', 'classlabel']\n",
    "df"
   ]
  },
  {
   "cell_type": "markdown",
   "metadata": {},
   "source": [
    "Ta thấy trong output, dữ liệu DataFrame được tạo ra chưa dữ liệu **nominal feature** (color), một **ordinal feature**(size), và một thưộc tính **numerical feature**(price). Các nhãn classlabel (giả sử  chúng được sử dụng cho mục đích học có giám sát) được lưu trữ ở cột cuối cùng. Những thuật toán cho việc phân loại trong cuốn sách không sử dụng thông tin có thứ tự trong các lớp nhãn.\n"
   ]
  },
  {
   "cell_type": "markdown",
   "metadata": {},
   "source": [
    "## Mapping ordinal features \n",
    "\n",
    "Để đám bảo rằng thuật toán có thể hiểu được các thuộc tính **ordinal feature** đúng, ta cần phải chuyển cái chuỗi phân loại (categorical string) kiểu string sang dạng số nguyên. Không may là ta không có được hàm nào có thể tự động suy diễn ra thứ tự chính xác của nhãn **labels** trong thuộc tính size của, do đó ta phải định nghĩa hàm ánh xạ (**mapping**) thủ công. Trong ví dụ dưới, giả sử ta biến được giá trị khác nhau giữa các thuộc tính, ví dụ như: XL = L + 1 = M + 2:\n"
   ]
  },
  {
   "cell_type": "code",
   "execution_count": 2,
   "metadata": {},
   "outputs": [
    {
     "data": {
      "text/html": [
       "<div>\n",
       "<style scoped>\n",
       "    .dataframe tbody tr th:only-of-type {\n",
       "        vertical-align: middle;\n",
       "    }\n",
       "\n",
       "    .dataframe tbody tr th {\n",
       "        vertical-align: top;\n",
       "    }\n",
       "\n",
       "    .dataframe thead th {\n",
       "        text-align: right;\n",
       "    }\n",
       "</style>\n",
       "<table border=\"1\" class=\"dataframe\">\n",
       "  <thead>\n",
       "    <tr style=\"text-align: right;\">\n",
       "      <th></th>\n",
       "      <th>colors</th>\n",
       "      <th>size</th>\n",
       "      <th>price</th>\n",
       "      <th>classlabel</th>\n",
       "    </tr>\n",
       "  </thead>\n",
       "  <tbody>\n",
       "    <tr>\n",
       "      <th>0</th>\n",
       "      <td>green</td>\n",
       "      <td>1</td>\n",
       "      <td>10.1</td>\n",
       "      <td>class2</td>\n",
       "    </tr>\n",
       "    <tr>\n",
       "      <th>1</th>\n",
       "      <td>red</td>\n",
       "      <td>2</td>\n",
       "      <td>13.5</td>\n",
       "      <td>class1</td>\n",
       "    </tr>\n",
       "    <tr>\n",
       "      <th>2</th>\n",
       "      <td>blue</td>\n",
       "      <td>3</td>\n",
       "      <td>15.3</td>\n",
       "      <td>class2</td>\n",
       "    </tr>\n",
       "  </tbody>\n",
       "</table>\n",
       "</div>"
      ],
      "text/plain": [
       "  colors  size  price classlabel\n",
       "0  green     1   10.1     class2\n",
       "1    red     2   13.5     class1\n",
       "2   blue     3   15.3     class2"
      ]
     },
     "execution_count": 2,
     "metadata": {},
     "output_type": "execute_result"
    }
   ],
   "source": [
    "size_mapping = {'XL': 3,\n",
    "               'L': 2,\n",
    "               'M': 1}\n",
    "df['size'] = df['size'].map(size_mapping)\n",
    "df"
   ]
  },
  {
   "cell_type": "markdown",
   "metadata": {},
   "source": [
    "Nếu như ta muốn chuyển ngược lại từ giá trị nguyên về lại dạng biểu diễn trước của nó, ta đơn giản là định nghĩa một hàm reverse-mapping dictionary, inv_size_mapping = {v: k for k, v in size_mapping.items()}, và sau đó ta lại sử dụng dictionary này tương tự như với phần ở trên để chuyển từ giá trị nguyên về lại giá trị **ordinal feature**"
   ]
  },
  {
   "cell_type": "code",
   "execution_count": 3,
   "metadata": {},
   "outputs": [
    {
     "name": "stdout",
     "output_type": "stream",
     "text": [
      "{3: 'XL', 2: 'L', 1: 'M'}\n",
      "0     M\n",
      "1     L\n",
      "2    XL\n",
      "Name: size, dtype: object\n"
     ]
    }
   ],
   "source": [
    "inv_size_mapping = {v: k for k, v in size_mapping.items()}\n",
    "print(inv_size_mapping)\n",
    "print(df['size'].map(inv_size_mapping))"
   ]
  },
  {
   "cell_type": "markdown",
   "metadata": {},
   "source": [
    "## Encoding class labels\n",
    "\n",
    "Rất nhiều thư viện Machine Learning yêu cầu rằng các nhãn **class labels** được mã hóa dưới dạng các giá trị nguyên. Mặc dù phần lớn các bộ ước lượng (estimators) trong thư viện Sklearn chuyển đổi các class labels sang dạng số nguyên (tự nó thực hiện bên trong), nhưng mà tốt hơn là ta nên cung cấp các class labels dưới dạng mảng số nguyên để tránh các trục trặc kỹ thuật. Để có thể mã hóa các nhãn cho lớp, ta có thể sử dụng cách tiếp cận tương tự như đối với **mapping ordinal feature** mà mình đã trình bày ở trên. Ta nên chú ý rằng các class labels không phải dạng **ordinal**, và các số nguyên ta gán cho các nhãn không phải là vấn đề ở đây. Do đó, ta đơn giản là enumerate (liệt kê các lớp nhãn), bắt đầu từ 0: \n",
    "\n"
   ]
  },
  {
   "cell_type": "code",
   "execution_count": 4,
   "metadata": {},
   "outputs": [
    {
     "name": "stdout",
     "output_type": "stream",
     "text": [
      "{'class1': 0, 'class2': 1}\n"
     ]
    }
   ],
   "source": [
    "import numpy as np \n",
    "class_mapping = {label: idx for idx, label in enumerate(np.unique(df['classlabel']))}\n",
    "print(class_mapping)"
   ]
  },
  {
   "cell_type": "markdown",
   "metadata": {},
   "source": [
    "Sau đó, ta có thể sử dụng cái mapping dictionary để chuyển class labels này sang dạng số nguyên, tương tự như cách ta làm với thuộc tính **ordinal** ở trên:\n"
   ]
  },
  {
   "cell_type": "code",
   "execution_count": 5,
   "metadata": {},
   "outputs": [
    {
     "name": "stdout",
     "output_type": "stream",
     "text": [
      "  colors  size  price  classlabel\n",
      "0  green     1   10.1           1\n",
      "1    red     2   13.5           0\n",
      "2   blue     3   15.3           1\n"
     ]
    }
   ],
   "source": [
    "df['classlabel'] = df['classlabel'].map(class_mapping)\n",
    "print(df)"
   ]
  },
  {
   "cell_type": "markdown",
   "metadata": {},
   "source": [
    "Tương tự, ta có thể thay đổi thứ tự của thằng key-values để có thể map lại dưới dạng nhãn ban đầu: \n"
   ]
  },
  {
   "cell_type": "code",
   "execution_count": 6,
   "metadata": {},
   "outputs": [
    {
     "name": "stdout",
     "output_type": "stream",
     "text": [
      "{0: 'class1', 1: 'class2'}\n"
     ]
    },
    {
     "data": {
      "text/html": [
       "<div>\n",
       "<style scoped>\n",
       "    .dataframe tbody tr th:only-of-type {\n",
       "        vertical-align: middle;\n",
       "    }\n",
       "\n",
       "    .dataframe tbody tr th {\n",
       "        vertical-align: top;\n",
       "    }\n",
       "\n",
       "    .dataframe thead th {\n",
       "        text-align: right;\n",
       "    }\n",
       "</style>\n",
       "<table border=\"1\" class=\"dataframe\">\n",
       "  <thead>\n",
       "    <tr style=\"text-align: right;\">\n",
       "      <th></th>\n",
       "      <th>colors</th>\n",
       "      <th>size</th>\n",
       "      <th>price</th>\n",
       "      <th>classlabel</th>\n",
       "    </tr>\n",
       "  </thead>\n",
       "  <tbody>\n",
       "    <tr>\n",
       "      <th>0</th>\n",
       "      <td>green</td>\n",
       "      <td>1</td>\n",
       "      <td>10.1</td>\n",
       "      <td>class2</td>\n",
       "    </tr>\n",
       "    <tr>\n",
       "      <th>1</th>\n",
       "      <td>red</td>\n",
       "      <td>2</td>\n",
       "      <td>13.5</td>\n",
       "      <td>class1</td>\n",
       "    </tr>\n",
       "    <tr>\n",
       "      <th>2</th>\n",
       "      <td>blue</td>\n",
       "      <td>3</td>\n",
       "      <td>15.3</td>\n",
       "      <td>class2</td>\n",
       "    </tr>\n",
       "  </tbody>\n",
       "</table>\n",
       "</div>"
      ],
      "text/plain": [
       "  colors  size  price classlabel\n",
       "0  green     1   10.1     class2\n",
       "1    red     2   13.5     class1\n",
       "2   blue     3   15.3     class2"
      ]
     },
     "execution_count": 6,
     "metadata": {},
     "output_type": "execute_result"
    }
   ],
   "source": [
    "inv_class_mapping = {v: k for k, v in class_mapping.items()}\n",
    "print(inv_class_mapping)\n",
    "df['classlabel'] = df['classlabel'].map(inv_class_mapping)\n",
    "df"
   ]
  },
  {
   "cell_type": "markdown",
   "metadata": {},
   "source": [
    "Một cách khác, ta sử dụng class LabelEncoder có trong sklearn để thực hiện việc này:\n"
   ]
  },
  {
   "cell_type": "code",
   "execution_count": 7,
   "metadata": {},
   "outputs": [
    {
     "name": "stdout",
     "output_type": "stream",
     "text": [
      "[1 0 1]\n"
     ]
    }
   ],
   "source": [
    "from sklearn.preprocessing import LabelEncoder\n",
    "\n",
    "class_le = LabelEncoder()\n",
    "y = class_le.fit_transform(df['classlabel'].values)\n",
    "print(y)"
   ]
  },
  {
   "cell_type": "markdown",
   "metadata": {},
   "source": [
    "**Câu hỏi đặt ra ở đây là làm sao để áp cái ni vô lại trong cái dataframe :v (Cái ni mình tìm hiểu rồi biểu diễn trong code của mình sau ^^)**\n",
    "\n",
    "Chú ý rằng phương thức **fit_transform** chỉ là dạng gọi tắt của 2 cái phương thức tách biệt **fit** và **transform**, ta có thể tìm thấy cái ni tương tự trong class StandartScaler cho việc chuẩn hóa z dữ liệu. Ngược lại, ta có thể sử dụng phương thức inverse_transform để chuyển class kiểu nguyên trở về lại dạng string nguyên bản của nó:\n"
   ]
  },
  {
   "cell_type": "code",
   "execution_count": 8,
   "metadata": {},
   "outputs": [
    {
     "name": "stdout",
     "output_type": "stream",
     "text": [
      "['class2' 'class1' 'class2']\n"
     ]
    }
   ],
   "source": [
    "z = class_le.inverse_transform(y)\n",
    "print(z)"
   ]
  },
  {
   "cell_type": "markdown",
   "metadata": {},
   "source": [
    "## Performing One-hot encoding on nominal features \n",
    "\n",
    "Trong phần trước Mapping ordinal features, ta sử dụng phương thức dictionary mapping để chuyển đổi ordinal feature size sang dạng số nguyên. Sklearn estimator để phân loại xem các nhãn class labels như là dạng categorical data và nó không có thứ tự **nominal**, ta cũng đã sử dụng LabelEncoder để chuyển dạng string sang dạng số nguyên. Ta có thể nghĩ đến việc áp dụng phương thức tương tự để xử lý cho các thuộc tính **nominal features** trong data của ta ví dụ như là feature color trong dữ liệu: \n",
    "\n"
   ]
  },
  {
   "cell_type": "code",
   "execution_count": 11,
   "metadata": {},
   "outputs": [
    {
     "name": "stdout",
     "output_type": "stream",
     "text": [
      "[[1 1 10.1]\n",
      " [2 2 13.5]\n",
      " [0 3 15.3]]\n"
     ]
    }
   ],
   "source": [
    "X = df[['colors', 'size', 'price']].values\n",
    "color_le = LabelEncoder()\n",
    "X[:, 0] = color_le.fit_transform(X[:, 0])\n",
    "print(X)"
   ]
  },
  {
   "cell_type": "markdown",
   "metadata": {},
   "source": [
    "Sau khi thực hiện đoạn code trên, cột đầu tiên trong mảng NumPy, x giữ gía trị mới của colors, được mã hóa như sau: \n",
    "\n",
    "* blue = 0\n",
    "* green = 1\n",
    "* red = 2\n"
   ]
  },
  {
   "cell_type": "markdown",
   "metadata": {},
   "source": [
    "Nếu ta dừng tại đây và chuyển dữ liệu mới này vào lại trong bộ phân loại, ta sẽm mắc phải lỗi thông dụng khi đối mặt với dữ liệu phân loại. Vấn đề ở đây là mặc dù giá trị của màu sắc không phân cấp độ được, nhưng mà thuật toán của chúng ta sẽ hiểu rằng gía trị của green là lớn hơn gía trị của blue, và red là lớn hơn green. Và có thể là mặc dù giả định không chính xác, nhưng mà thuật toán vẫn có thể tạo ra kết qủa có ích, nhưng mà cái kết quả đó không phải là tối ưu.\n"
   ]
  },
  {
   "cell_type": "markdown",
   "metadata": {},
   "source": [
    "Một phương thức thông dụng cho vấn đề này đó là sử dụng kỹ thuật có tên **one-hot encoding**. Ý tưởng cho hướng tiếp cận này đó là ta tạo một giá tính năng (dummy feature) cho mỗi giá trị riêng biệt trong cột **nominal** feature. Ở đây, ta sẽ chuyển cái thuộc tính color sang 3 thuộc tính mới: blue, green và red. Các giá trị nhị phân được sử dụng cho các phần của màu sắc trong ví dụ; ví dụ như mẫu blue có thể được biểu diễn là blue=1, green=0 và red=0. Để thực hiện việc biến đổi này, ta có thể sử dụng OneHotEncoder được cài đặt trong Sklearn preprocessing module: \n"
   ]
  },
  {
   "cell_type": "code",
   "execution_count": 13,
   "metadata": {},
   "outputs": [
    {
     "name": "stdout",
     "output_type": "stream",
     "text": [
      "[[0. 1. 0.]\n",
      " [0. 0. 1.]\n",
      " [1. 0. 0.]]\n"
     ]
    }
   ],
   "source": [
    "from sklearn.preprocessing import OneHotEncoder\n",
    "X = df[['colors', 'size', 'price']].values\n",
    "color_ohe = OneHotEncoder()\n",
    "print(color_ohe.fit_transform(X[:, 0].reshape(-1, 1)).toarray())"
   ]
  },
  {
   "cell_type": "markdown",
   "metadata": {},
   "source": [
    "Chú ý rằng ta áp dụng OneHotEncoder với một cột đơn duy nhất (X[:, 0].reshape(-1, 1))), để tránh thay đổi 2 cột còn lại trong dữ liệu. Nếu chúng ta muốn chuyển đổi một cột thành ba feature nữa trong dữ liệu, ta có thể dùng ColumnTransformer, có tham số là danh sách list các tuple của (name, transformer, column(s)).\n"
   ]
  },
  {
   "cell_type": "code",
   "execution_count": 14,
   "metadata": {},
   "outputs": [
    {
     "name": "stdout",
     "output_type": "stream",
     "text": [
      "[[ 0.   1.   0.   1.  10.1]\n",
      " [ 0.   0.   1.   2.  13.5]\n",
      " [ 1.   0.   0.   3.  15.3]]\n"
     ]
    }
   ],
   "source": [
    "from sklearn.compose import ColumnTransformer\n",
    "X = df[['colors', 'size', 'price']].values\n",
    "c_transf = ColumnTransformer([\n",
    "    ('onehot', OneHotEncoder(), [0]),\n",
    "    ('nothing', 'passthrough', [1, 2])\n",
    "])\n",
    "print(c_transf.fit_transform(X).astype(float))"
   ]
  },
  {
   "cell_type": "markdown",
   "metadata": {},
   "source": [
    "Trong đoạn code trên, ta chỉ ra rằng ta muốn biến đổi cột đầu tiên thôi và để các cột còn lại không đụng tới thông qua tham số 'passthrough'.\n",
    "\n",
    "**Một cách khác tiện hơn** để tạo các dummy features thông qua One-hot encoding đó là sử dụng phương thức get_dummies được thiết đặt trong pandas. Áp vào DataFrame, phương thức get_dummies chỉ convert các cột thuộc tính chứa giá trị là các chuỗi và để các cột chứa giá trị số lại:\n"
   ]
  },
  {
   "cell_type": "code",
   "execution_count": 16,
   "metadata": {},
   "outputs": [
    {
     "data": {
      "text/html": [
       "<div>\n",
       "<style scoped>\n",
       "    .dataframe tbody tr th:only-of-type {\n",
       "        vertical-align: middle;\n",
       "    }\n",
       "\n",
       "    .dataframe tbody tr th {\n",
       "        vertical-align: top;\n",
       "    }\n",
       "\n",
       "    .dataframe thead th {\n",
       "        text-align: right;\n",
       "    }\n",
       "</style>\n",
       "<table border=\"1\" class=\"dataframe\">\n",
       "  <thead>\n",
       "    <tr style=\"text-align: right;\">\n",
       "      <th></th>\n",
       "      <th>price</th>\n",
       "      <th>size</th>\n",
       "      <th>colors_blue</th>\n",
       "      <th>colors_green</th>\n",
       "      <th>colors_red</th>\n",
       "    </tr>\n",
       "  </thead>\n",
       "  <tbody>\n",
       "    <tr>\n",
       "      <th>0</th>\n",
       "      <td>10.1</td>\n",
       "      <td>1</td>\n",
       "      <td>0</td>\n",
       "      <td>1</td>\n",
       "      <td>0</td>\n",
       "    </tr>\n",
       "    <tr>\n",
       "      <th>1</th>\n",
       "      <td>13.5</td>\n",
       "      <td>2</td>\n",
       "      <td>0</td>\n",
       "      <td>0</td>\n",
       "      <td>1</td>\n",
       "    </tr>\n",
       "    <tr>\n",
       "      <th>2</th>\n",
       "      <td>15.3</td>\n",
       "      <td>3</td>\n",
       "      <td>1</td>\n",
       "      <td>0</td>\n",
       "      <td>0</td>\n",
       "    </tr>\n",
       "  </tbody>\n",
       "</table>\n",
       "</div>"
      ],
      "text/plain": [
       "   price  size  colors_blue  colors_green  colors_red\n",
       "0   10.1     1            0             1           0\n",
       "1   13.5     2            0             0           1\n",
       "2   15.3     3            1             0           0"
      ]
     },
     "execution_count": 16,
     "metadata": {},
     "output_type": "execute_result"
    }
   ],
   "source": [
    "pd.get_dummies(df[['colors', 'price', 'size']])\n"
   ]
  },
  {
   "cell_type": "markdown",
   "metadata": {},
   "source": [
    "Khi ta sử dụng **one-hot encoding** cho dữ liệu, ta luôn nhớ rằng nó luôn luôn dẫn đến hiện tượng **[multicollinearity](https://www.statisticshowto.com/multicollinearity/)** , đó là vấn đề cho một số method(ví dụ như các method yêu cầu tính toán ma trận nghịch đảo (matrix inversion)). Nếu như các thuộc tính có độ tương quan quá cao (highly correlated), ma trận sẽ rất khó để tính nghịch đảo, dẫn đến những ước tính không ổn định. Để giảm thiểu tính tương quan giữa các biến, ta đơn giản là bỏ bớt đi 1 cột thuộc tính từ mảng one-hot encoding. Chú ý rằng ta sẽ không mất đi bất kỳ một thông tin quan trọng nào khi mà xóa đi một cột cả; ví dụ, nếu như chúng ta xóa đi cột color_blue, thì thuộc tính này vẫn tồn tại bởi vì nếu color_green và color_red đều bằng 0 thì điều đó có nghĩa là sample đó sẽ mang màu blue"
   ]
  }
 ],
 "metadata": {
  "kernelspec": {
   "display_name": "env3",
   "language": "python",
   "name": "env3"
  },
  "language_info": {
   "codemirror_mode": {
    "name": "ipython",
    "version": 3
   },
   "file_extension": ".py",
   "mimetype": "text/x-python",
   "name": "python",
   "nbconvert_exporter": "python",
   "pygments_lexer": "ipython3",
   "version": "3.6.9"
  }
 },
 "nbformat": 4,
 "nbformat_minor": 2
}
