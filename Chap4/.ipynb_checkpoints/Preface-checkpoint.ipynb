{
 "cells": [
  {
   "cell_type": "markdown",
   "metadata": {},
   "source": [
    "# Chapter 4\n",
    "\n",
    "## Building Good Training Datasets - Data Preprocessing\n",
    "\n",
    "Chất lượng của dữ liệu và lượng thông tin hữu ích mà nó chứa là những yếu tố quan trọng quyết định cho thuật toán machine learning có thể học đc. Do đó, điều kiện tiên quyết là cần phải nghiên cứu và tiền xử lý lại dữ liệu trước khi ta feed nó vào trong thuật toán. Trong chương này, ta sẽ tìm hiểu về những kỹ thuật tiền xử lý dữ liệu cần thiết có thể giúp cho chúng ta xây dựng nên một model machine learning tốt.\n",
    "\n",
    "Những chủ đề chính trong chương này bao gồm:\n",
    "* Xóa và thêm những giá trị missing values từ dữ liệu \n",
    "* Chuyển dữ liệu phân loại về dạng chuẩn cho các thuật toán machine learning\n",
    "* Chọn những thuộc tính có liên quan cho việc xây dựng model"
   ]
  }
 ],
 "metadata": {
  "kernelspec": {
   "display_name": "env3",
   "language": "python",
   "name": "env3"
  },
  "language_info": {
   "codemirror_mode": {
    "name": "ipython",
    "version": 3
   },
   "file_extension": ".py",
   "mimetype": "text/x-python",
   "name": "python",
   "nbconvert_exporter": "python",
   "pygments_lexer": "ipython3",
   "version": "3.6.9"
  }
 },
 "nbformat": 4,
 "nbformat_minor": 2
}
