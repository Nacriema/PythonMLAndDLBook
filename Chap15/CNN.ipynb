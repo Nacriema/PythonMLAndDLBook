{
 "cells": [
  {
   "cell_type": "markdown",
   "metadata": {},
   "source": [
    "# Chap 15: Classifying Images with Deep Convolutional Neural Networks\n",
    "\n",
    "Chương này sẽ học về CNNs dùng cho việc phân loại hình ảnh (image classification). Ta sẽ bắt đầu bằng cách cài đặt nguyên thủy của nó, và cách sử dụng framework để tạo nó trong TensorFlow. Trong chương gồm những phần chính: \n",
    "* Convolution trong không gian 1 chiều và 2 chiều\n",
    "* Các khối kiến trúc của CNN\n",
    "* Cài đặt thằng CNNs bằng TensorFlow\n",
    "* Các kỹ thuật data augumentation để nâng cao khả năng tổng quát hóa.\n",
    "* Cài đặt một thằng Image CNN base classifier để nhận diện giới tính của một người.\n"
   ]
  },
  {
   "cell_type": "markdown",
   "metadata": {},
   "source": [
    "## The building blocks of CNNs \n",
    "\n",
    "Nó mô phỏng lại vùng nhận diện hình ảnh trong não bộ người hoạt động để nhận diện vật thể. \n",
    "\n",
    "Do khả năng nhận diện hình ảnh cao của CNNs. Trong phần sẽ giải thích tại sao thằng CNNs hay được xem là \"feature extraction layers\". Và CNNs áp dụng đối với dữ liệu 1 chiều hay 2 chiều.\n",
    "\n",
    "## Understanding CNNs and feature hierachies\n",
    "\n",
    "Một vài loại NNs, trong đó CNNs có khả năng tự học được feature từ dữ liệu raw mà thường không có lợi ích trong những task loại này. Do đó, CNNs thường được xem là feature extractors: Những lớp đầu thì lấy những thuộc tính thấp, và các lớp sâu hơn, thông thường là **fully connected layer** như là thằng MLP sử dụng những thuộc tính này để dự đoán giá trị mới.\n",
    "\n",
    "Những thằng NNs, đặc trưng là thằng CNNs, xây dựng thứ gọi là **feature hirearchy** bằng cách kết hợp low level features dưới dạng một hình thức thông minh để tạo nên lớp high level feature. Ví dụ những thằng feature thấp nó được giữ lại và kết hợp lại với nhau để tạo nên thuộc tính cao hơn. \n",
    "\n",
    "CNNs thông thường thể hiện tốt trong các bài toán liên quan đến hình ảnh, sử dụng 2 ý tưởng lớn đó là: \n",
    "\n",
    "* Sparse connectivity: Một thành phần nhỏ trong feature map kết nối đến 1 patch nhỏ của hình ảnh. \n",
    "\n",
    "* Parameter-sharing: Các weights giống nhau được sử dụng cho các patch của thằng input image.\n",
    "\n",
    "\n",
    "Thông thường CNNs bao gồm lớp convolutional và subsampling layers. Chú ý rằng thằng subsampling layer, thông thường đó sẽ là **pooling layer**, lớp này không có tham số học, không có bias trong này. Tuy nhiên,cả hai thằng convolutional và thằng fully connected layers có weights và bias cần được tối ưu trong quá trình training.\n",
    "\n",
    "## Performing discrete convolutions\n",
    "\n",
    "Discrect convolution là phép toán đơn giản trong CNN. Do đó, chừ ta tìm hiểu nó làm việc như thế nào. Chú ý trong phần sách, tác giả sử dụng ký hiệu * để đánh dấu\n",
    "\n",
    "## Discrete convolutions in one dimension\n",
    "\n",
    "Công thức dạng rời rạc của nó như sau: \n",
    "\n",
    "![](https://latex.codecogs.com/gif.latex?y%20%3D%20x%20*%20w%20%5Crightarrow%20y%5Bi%5D%20%3D%20%5Csum_%7B-%5Cinfty%20%7D%5E%7B%5Cinfty%7D%20x%5Bi-k%5Dw%5Bk%5D)\n",
    "\n"
   ]
  },
  {
   "cell_type": "code",
   "execution_count": null,
   "metadata": {},
   "outputs": [],
   "source": []
  }
 ],
 "metadata": {
  "kernelspec": {
   "display_name": "env3",
   "language": "python",
   "name": "env3"
  },
  "language_info": {
   "codemirror_mode": {
    "name": "ipython",
    "version": 3
   },
   "file_extension": ".py",
   "mimetype": "text/x-python",
   "name": "python",
   "nbconvert_exporter": "python",
   "pygments_lexer": "ipython3",
   "version": "3.6.9"
  }
 },
 "nbformat": 4,
 "nbformat_minor": 2
}
