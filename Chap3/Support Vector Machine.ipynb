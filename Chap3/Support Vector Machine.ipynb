{
 "cells": [
  {
   "cell_type": "markdown",
   "metadata": {},
   "source": [
    "# Maximum margin classification with support vector machines\n",
    "\n",
    "Một trong những thuật toán quan trọng được sử dụng rộng rãi đó là **support vector machine (SVM)**, nó được xem như là một dạng mở rộng của **perceptron**. Khi sử dụng thuật toán của perceptron, ta hướng đến việc tối thiểu hóa **missclassification errors**. Tuy nhiên, trong SVMs thì mục đích của việc tối ưu đó chính là cái margin. Margin được định nghiã là khoảng cách giữa siêu phẳng phân cách - hyperplane (decision boudary) và những mẫu train gần với cái siêu phẳng đó nhất, các điểm đó còn được gọi là các **support vectors**, điều này được mô phỏng bên dưới:\n",
    "\n",
    "\n",
    "![Margin-SVMs](marginVisual.png)"
   ]
  },
  {
   "cell_type": "markdown",
   "metadata": {},
   "source": [
    "## Maximum margin intuition\n",
    "\n",
    "Lý do ta lựa chọn cái phân cách sao cho có được margin lớn nhất là vì khi thực hiện dự đoán, các model có margin nhỏ dễ dấn đến overfitting hơn. Để có được ý tưởng chọn siêu phẳng phân cách có margin lớn nhất, xem xét đến 2 siêu phẳng positive và negative song song với lại mặt phẳng phân cách, được mô tả như sau:\n",
    "\n"
   ]
  },
  {
   "cell_type": "markdown",
   "metadata": {},
   "source": [
    "![eq1](https://latex.codecogs.com/gif.latex?w_%7B0%7D%20&plus;%20w%5E%7BT%7D%20x_%7Bpos%7D%20%3D%201) \n",
    "\n",
    "![eq2](https://latex.codecogs.com/gif.latex?w_%7B0%7D%20&plus;%20w%5E%7BT%7D%20x_%7Bneg%7D%20%3D%20-1)"
   ]
  },
  {
   "cell_type": "markdown",
   "metadata": {},
   "source": [
    "Nếu như ta trừ 2 biểu thức này với nhau, ta sẽ được:\n",
    "\n",
    "![eq3](https://latex.codecogs.com/gif.latex?%5CRightarrow%20w%5E%7BT%7D%28x_%7Bpos%7D%20-%20x_%7Bneg%7D%29%20%3D%202)"
   ]
  },
  {
   "cell_type": "markdown",
   "metadata": {},
   "source": [
    "Ta có thể chuẩn hóa biểu thức này bằng cách chia hai vế cho chiều dài của vector **w**, được định nghĩa là chuẩn 2 - chuẩn Euclide:\n",
    "\n",
    "![eq4](https://latex.codecogs.com/gif.latex?%5Cleft%20%5C%7C%20w%20%5Cright%20%5C%7C%20%3D%20%5Csqrt%7B%5Csum_%7Bj%3D1%7D%5E%7Bm%7Dw%7B_%7Bj%7D%5E%7B2%7D%7D%7D)"
   ]
  },
  {
   "cell_type": "markdown",
   "metadata": {},
   "source": [
    "Do đó, ta sẽ được biểu thức: \n",
    "\n",
    "![eq5](https://latex.codecogs.com/gif.latex?%5Cfrac%7Bw%5E%7BT%7D%28x_%7Bpos%7D%20-%20x_%7Bneg%7D%29%7D%7B%5Cleft%20%5C%7C%20w%20%5Cright%20%5C%7C%7D%20%3D%20%5Cfrac%7B2%7D%7B%5Cleft%5C%7C%20w%20%5Cright%5C%7C%7D)"
   ]
  },
  {
   "cell_type": "markdown",
   "metadata": {},
   "source": [
    "Vế trái của biểu thức trên là khoảng cách giữa 2 siêu phẳng positive và negative, còn được gọi với tên là **margin** mà chúng ta cần cực đại hóa. Tương đương với việc cực đại biểu thức $\\frac{2}{\\left\\|w\\right\\|}$ với điều kiện ràng buộc là tất cả các mẫu được phân loại đúng, có thể được biểu diễn là: "
   ]
  },
  {
   "cell_type": "markdown",
   "metadata": {},
   "source": [
    "![eq6](https://latex.codecogs.com/gif.latex?w_%7B0%7D%20&plus;%20w%5E%7BT%7Dx%5E%7B%28i%29%7D%20%5Cgeqslant%201)  nếu  $y^{(i)} = 1$"
   ]
  },
  {
   "cell_type": "markdown",
   "metadata": {},
   "source": [
    "![eq](https://latex.codecogs.com/gif.latex?w_%7B0%7D%20&plus;%20w%5E%7BT%7Dx%5E%7B%28i%29%7D%20%5Cleqslant%20-1) nếu $y^{(i)} = -1$"
   ]
  },
  {
   "cell_type": "markdown",
   "metadata": {},
   "source": [
    "Với i = 1 ... N và N là số mẫu trong dữ liệu train.\n",
    "\n",
    "Hai biểu thức ở trên có nghĩa là các mẫu negative-class nên rơi vào một phía của siêu phẳng negative, và tương tự đối với các mẫu positive. Cả 2 biểu thức trên có thể được biểu diễn dưới dạng tổng quát hơn:\n"
   ]
  },
  {
   "cell_type": "markdown",
   "metadata": {},
   "source": [
    "![](https://latex.codecogs.com/gif.latex?y%5E%7B%28i%29%7D%28w_%7B0%7D&plus;%20w%5E%7BT%7Dx%5E%7B%28i%29%7D%29%20%5Cgeq%201)"
   ]
  },
  {
   "cell_type": "markdown",
   "metadata": {},
   "source": [
    "Trong thực tế, ta sẽ tìm cực tiểu của dạng nghịch đảo, tức là ta tìm cực tiểu của bài toán $\\frac{1}{2}\\left \\| w \\right \\|^{2}$, bài toán sẽ được chuyển về dạng tìm cực tiểu của phương trình bậc 2. Tài liệu đọc thêm về SVM, trong cuốn sách này không đi sâu lắm về cái ni:\n",
    "\n",
    "The Nature of Statistical Learning Theory, Springer Science+Business Media, Vladimir\n",
    "Vapnik, 2000, or read Chris J.C. Burges' excellent explanation in A Tutorial on Support\n",
    "Vector Machines for Pattern Recognition (Data Mining and Knowledge Discovery, 2(2):\n",
    "121-167, 1998\n",
    "\n",
    "## Dealing with a nonlinearly separable case using slack variable\n",
    "\n",
    "Đề cập ngắn đến biến slack (biến chùng), $\\xi$, được phát biểu bởi Vladimir Vapnik vào năm 1995, và nó dẫn đến một chủ đề gọi là **soft-margin classification**. Mục đích mà biến này ra đời là do điều kiện phân vùng tuyến tính không cần phải quá khắt khe đối với trường hợp dữ liệu không phải phân chia tuyến tính được, cho phép hội tụ và bỏ qua tính missclassifications, dưới một ngưỡng giá trị penalization (giá trị phạt) là được. \n",
    "\n",
    "Giá trị positive-valued slack variable đơn giản là được thêm vào trong điều kiện ràng buộc\n",
    "\n",
    "$w_{0} + w^{T}x^{(i)} \\geq 1 - \\xi^{(i)}$   nếu $y^{(i)} = 1$ \n",
    "\n",
    "$w_{0} + w^{T}x^{(i)} \\leq -1 + \\xi^{(i)}$   nếu $y^{(i)} = -1$\n",
    "\n",
    "Với i = 1...N\n",
    "\n",
    "Ở đây N là số mẫu trong dataset. Do đó, đối tượng mới mà chúng ta cần tối thiểu hóa trở thành:\n"
   ]
  },
  {
   "cell_type": "markdown",
   "metadata": {},
   "source": [
    "![eq](https://latex.codecogs.com/gif.latex?%5Cfrac%7B1%7D%7B2%7D%20%5Cleft%20%5C%7C%20w%20%5Cright%20%5C%7C%5E%7B2%7D%20&plus;%20C%28%5Csum_%7Bi%7D%5Cxi%5E%7B%28i%29%7D%29)"
   ]
  },
  {
   "cell_type": "markdown",
   "metadata": {},
   "source": [
    "Thông qua biến C, ta có thể điều chỉnh được lượng penalty cho phân loại sai. Giá trị C càn lớn thì giá trị error penalty càng lớn, ngược lại sẽ ít strict hơn đối với phân loại sai khi ta chọn giá trị C nhỏ. Từ đó ta có thể dùng tham số C để điều chỉnh được chiều rộng của margin và từ đó sẽ cần bằng được cái gọi là **bias-variance tradeoff**, được minh họa trong hình vẽ sau:\n",
    "\n",
    "![ilus](tradeof.png)"
   ]
  },
  {
   "cell_type": "markdown",
   "metadata": {},
   "source": [
    "Cái concept này tương đương với **regularization** của mô hình **logistic regression**, nếu như ta giảm giá trị C của nó thì sẽ tăng tính bias và giảm đi sự variance của model."
   ]
  },
  {
   "cell_type": "markdown",
   "metadata": {},
   "source": [
    "Ta đã có đc bức tranh cơ bản của SVM, giờ sử dụng SVM để phân loại các loại hoa khác nhau trong dữ liệu dataset của mình.\n",
    "\n",
    "Mình xin trích những đoạn code chính về thao tác với SVM thôi\n",
    "\n",
    "```python\n",
    "from sklearn.svm import SVC\n",
    "svm = SVC(kernel='linear', C=1.0, random_state=1)\n",
    "svm.fit(X_train_std, y_train)\n",
    "\n",
    "plot_decision_regions(X_combined_std,\n",
    "y_combined,\n",
    "classifier=svm,\n",
    "test_idx=range(105, 150))\n",
    "plt.xlabel('petal length [standardized]')\n",
    "plt.ylabel('petal width [standardized]')\n",
    "\n",
    "plt.legend(loc='upper left')\n",
    "plt.tight_layout()\n",
    "plt.show()\n",
    "```"
   ]
  },
  {
   "cell_type": "markdown",
   "metadata": {},
   "source": [
    "Ba vùng phân hoạch cho SVM, sau khi chạy đoạn code thì ta có được hình vẽ:\n",
    "\n",
    "![im](svm.png)"
   ]
  },
  {
   "cell_type": "markdown",
   "metadata": {},
   "source": [
    "#### Note: Logistic regression vs SVMs\n",
    "\n",
    "Trong thực tế, linear logistic regression và linear SVMs thường cho ra kết quả giống nhau. Logistic regression mục tiêu là cực đại hóa likelihoods của dữ liệu train, tức kết quả nó sát với cái ranh giới phân chia còn SVMs là quan tâm chính tới những điểm gần nhất với ranh giới phân chia (decision boudary) hay còn gọi là những support vector. Ngược lại, logistic regression có ưu điểm ở chỗ là nó đơn giản và cài đặt nó dễ hơn, Hơn nữa, logistic regression model dễ được cập nhật, là điều cực kỳ quan trọng khi xử lý với dòng dữ liệu (online learning)"
   ]
  },
  {
   "cell_type": "markdown",
   "metadata": {},
   "source": [
    "## Alternative implementation in sklearn\n",
    "\n",
    "Thư viện Sklearn có class LogisticRegression được sử dụng thư viện LIBLINEAR, được tối ưu bằng thư viện C/C++, được phát triển tại đại học National Taiwan University. Tương tự, class SVC dùng cho việc train SVM Model là tận dụng từ thư viện LIBSVM.\n",
    "\n",
    "Lợi ích của sử dụng LIBLINEAR và LIBSVM so với Python thuần đó là nó cho ta tốc độ train dữ liệu nhanh đối với lượng dữ liệu lớn. Tuy nhiên, dữ liệu của chúng ta quá lớn và ko thể nào fit vào cùng một lúc được. Do đó Sklearn cung cấp một phương pháp thay thế khác là sử dụng class SGDClassifier, nó hỗ trợ việc học online learning thông qua method **partial_fit**. Concept đằng sau SGDClassifier tương tự như những gì ta đã cài đặt trong Chapter 2. Ta có thể khởi tạo SGD version của perceptron, logistic regression và SVM bằng tham số mặc định như sau:\n",
    "\n",
    "```python\n",
    "from sklearn.linear_model import SGDClassifier\n",
    "ppn = SGDClassifier(loss='perceptron')\n",
    "lr = SGDClassifier(loss='log')\n",
    "svm = SGDClassifier(loss='hinge')\n",
    "```"
   ]
  },
  {
   "cell_type": "markdown",
   "metadata": {},
   "source": [
    "Link tìm hiểu thêm về cái ni: https://scikit-learn.org/stable/modules/generated/sklearn.linear_model.SGDClassifier.html"
   ]
  },
  {
   "cell_type": "markdown",
   "metadata": {},
   "source": [
    "## Solving nonlinear problems using a kernel SVM\n",
    "\n",
    "Lý do khác làm cho SVMs được ưa chuộng sử dụng trong các thuật toán machine learning đó là nó rất dễ được **kernelized** để giải quyết các bài toán phân loại không tuyến tính. Trước khi thảo luận về concept chính của **kernel SVM** - là một biến thể thường gặp của SVMs, ta hãy tạo dữ liệu để xem xét một bài toán nonlinear classification nó như thế nào.\n",
    "\n",
    "### Kernel methods for linearly inseparable data\n",
    "\n",
    "Sử dụng đoạn code bên dưới, ta sẽ tạo được tập dữ liệu cơ bản là đại diện cho phép toán XOR bằng cách dùng hàm logical_xor của NumPy, 100 mẫu sẽ đc gắn nhãn 1 và 100 mẫu sẽ được gắn nhãn -1:\n",
    "\n",
    "```python\n",
    "\n",
    "\n",
    "```"
   ]
  },
  {
   "cell_type": "code",
   "execution_count": 5,
   "metadata": {},
   "outputs": [
    {
     "data": {
      "image/png": "[encoded data removed]",
      "text/plain": [
       "<Figure size 432x288 with 1 Axes>"
      ]
     },
     "metadata": {
      "needs_background": "light"
     },
     "output_type": "display_data"
    }
   ],
   "source": [
    "import matplotlib.pyplot as plt\n",
    "import numpy as np\n",
    "np.random.seed(1)\n",
    "X_xor = np.random.randn(200, 2)\n",
    "y_xor = np.logical_xor(X_xor[:, 0] > 0,\n",
    "X_xor[:, 1] > 0)\n",
    "y_xor = np.where(y_xor, 1, -1)\n",
    "\n",
    "plt.scatter(X_xor[y_xor == 1, 0],\n",
    "            X_xor[y_xor == 1, 1],\n",
    "            c='b', marker='x',\n",
    "            label='1')\n",
    "plt.scatter(X_xor[y_xor == -1, 0],\n",
    "            \n",
    "\n",
    "X_xor[y_xor == -1, 1],\n",
    "            c='r', marker='s',\n",
    "            label='-1')\n",
    "\n",
    "plt.xlim([-3, 3])\n",
    "plt.ylim([-3, 3])\n",
    "plt.legend(loc='best')\n",
    "plt.tight_layout()\n",
    "plt.show()"
   ]
  },
  {
   "cell_type": "markdown",
   "metadata": {},
   "source": [
    "Ta có được dữ liệu của phép XOR từ các điểm dữ liệu lấy random ban đầu. Rõ ràng là ta không thể phân chia dữ liệu nàỳ bằng việc sử dụng một siêu phẳng tuyến tính thông qua các model linear logistic regression hoặc linear SVM được.\n",
    "\n",
    "Ý tưởng cơ bản của **kernel methods** được dùng để đối mặt với các dữ liệu kiểu như vậy, phương pháp này sử dụng sự kết hợp phi tuyến của các thuộc tính và chiếu chúng lên một không gian nhiều chiều hơn thông qua một hàm chiếu mapping function $\\phi$, nơi mà dữ liệu có thể được phân chia một cách tuyến tính được. Ta có thể xem mô tả trực quan thông qua hình vẽ bên dưới. Như trong hình phía trên, ta có thể biểu diễn dữ liệu 2 chiều này thành dạng dữ liệu 3 chiều mới, nơi mà các class có thể được phân chia thông qua phép chiếu (**projection**) sau:\n"
   ]
  },
  {
   "cell_type": "markdown",
   "metadata": {},
   "source": [
    "![eq](https://latex.codecogs.com/gif.latex?%5Cphi%28x_%7B1%7D%2C%20x_%7B2%7D%29%20%3D%20%28z_%7B1%7D%2C%20z_%7B2%7D%2C%20z_%7B3%7D%29%20%3D%20%28x_%7B1%7D%2C%20x_%7B2%7D%2C%20x_%7B1%7D%5E%7B2%7D%20&plus;%20x_%7B2%7D%5E%7B2%7D%29)"
   ]
  },
  {
   "cell_type": "markdown",
   "metadata": {},
   "source": [
    "Điều này cho phép chúng ta phân tách 2 lớp như hình bên dưới trên không gian 3 chiều rồi ta chiếu lại thành không gian 2 chiều và nó trở thành phân loại không tuyến tính:\n",
    "(Hình vẽ minh họa cho tư tưởng chiếu ở trên)"
   ]
  },
  {
   "cell_type": "markdown",
   "metadata": {},
   "source": [
    "![](kernel.png)"
   ]
  },
  {
   "cell_type": "markdown",
   "metadata": {},
   "source": [
    "## Using the kernel trick to find separating hyperplanes in a high-dimensional space\n",
    "\n",
    "Để giải quyết vấn đề phân loại không tuyến tính bằng SVM, ra sẽ chuyển dữ liệu training data sang một chiều không gian lớn hơn thông qua hàm mapping function $\\phi$, và train một linear SVM model để phân loại dữ liệu trên chiều không gian mới đó (new features space).\n",
    "\n",
    "Tuy nhiên, một vấn đề xảy đến đối với phương pháp mapping này là việc xây dựng chiều dữ liệu mới tốn nhiều thời gian tính toán, đặc biệt là khi chúng ta đối diện với dữ liệu nhiều chiều. Đây chính là lý do mà chúng ta sử dụng **kernel trick** để giải quyết vấn đề này.\n",
    "\n",
    "Trong tế người ta sẽ thay đổi phép toán tính $x^{(i)T}x^{(j)}$ bởi biểu thức $\\phi(x^{(i)})^{T} \\phi(x^{(j)})$. Để giảm thiểu các bước tính toán giá trị dot product giữa 2 điểm cụ thể, người ta định nghĩa hàm gọi là **kernel function**:\n"
   ]
  },
  {
   "cell_type": "markdown",
   "metadata": {},
   "source": [
    "![eq](https://latex.codecogs.com/gif.latex?k%28x%5E%7B%28i%29%7D%2C%20x%5E%7B%28j%29%7D%29%20%3D%20%5Cphi%28x%5E%7B%28i%29%7D%29%5E%7BT%7D%5Cphi%28x%5E%7B%28j%29%7D%29)"
   ]
  },
  {
   "cell_type": "markdown",
   "metadata": {},
   "source": [
    "Một trong số những kernel được sử dụng rộng rãi đó là **radial basis function (RBF)** kernel, có có tên đơn giản kà **Gaussian kernel**:\n",
    "\n"
   ]
  },
  {
   "cell_type": "markdown",
   "metadata": {},
   "source": [
    "![](https://latex.codecogs.com/gif.latex?k%28x%5E%7B%28i%29%7D%2C%20x%5E%7B%28j%29%7D%29%20%3D%20exp%28-%5Cfrac%7B%5Cleft%20%5C%7C%20x%5E%7B%28i%29%7D%20-%20x%5E%7B%28j%29%7D%20%5Cright%20%5C%7C%5E%7B2%7D%7D%7B2%5Csigma%20%5E%7B2%7D%7D%29)"
   ]
  },
  {
   "cell_type": "markdown",
   "metadata": {},
   "source": [
    "Hàm này thường được đơn giản lại thành:\n",
    "\n"
   ]
  },
  {
   "cell_type": "markdown",
   "metadata": {},
   "source": [
    "![](https://latex.codecogs.com/gif.latex?k%28x%5E%7B%28i%29%7D%2C%20x%5E%7B%28j%29%7D%29%20%3D%20exp%28-%5Cgamma%20%5Cleft%20%5C%7C%20x%5E%7B%28i%29%7D%20-%20x%5E%7B%28j%29%7D%20%5Cright%20%5C%7C%5E%7B2%7D%29)"
   ]
  },
  {
   "cell_type": "markdown",
   "metadata": {},
   "source": [
    "Với $\\gamma = \\frac{1}{2\\sigma^{2}}$ là tham số cần được tối ưu hóa."
   ]
  },
  {
   "cell_type": "markdown",
   "metadata": {},
   "source": [
    "Một cách nói khác hơn, khái niệm \"kernel\" có thể được nói là một hàm tương tự **similarity function** giữa một cặp điểm. Dấu - nó chuyển khoảng cách đo thành giá trị similarity score, và do hàm mũ exponential, kết quả của hàm similarity này rơi vào trong khoảng 1 (đối với các mẫu giống hệt nhau) và 0 (đối với các mẫu khác hẳn nhau)\n",
    "\n",
    "Ta đã có được ý tưởng chung của kernel trick, giờ xem thử ta có thể train SVM model để có thể vẽ ranh giới phân chia để phân tách dữ liệu XOR bên trên. Ở đây ta sử dụng class từ sklearn và thay thế kernel='linear' thành kernel='rbf':\n"
   ]
  },
  {
   "cell_type": "markdown",
   "metadata": {},
   "source": [
    "```python\n",
    "from sklearn.svm import SVC \n",
    "svm = SVC(kernel='rbf', random_state=1, gamma=0.10, C=10.0)\n",
    "svm.fit(X_xor, y_xor)\n",
    "plot_decision_regions(X_xor, y_xor, classifier=svm)\n",
    "plt.legend(loc='upper left')\n",
    "plt.tight_layout()\n",
    "plt.show()\n",
    "```"
   ]
  },
  {
   "cell_type": "markdown",
   "metadata": {},
   "source": [
    "Ta có thể thấy trong kết quả, kernel trong SVM phân chia dữ liệu XOR data khá tốt:\n",
    "\n",
    "![](rbf.png)"
   ]
  },
  {
   "cell_type": "markdown",
   "metadata": {},
   "source": [
    "Giá trị của $\\gamma$ được set là gamma = 0.1, có thể được hiểu là cut-off parametter cho Gaussian sphere. Nếu ta tăng giá trị của $\\gamma$, ta sẽ tăng cường mức độ ảnh hưởng hoặc là tiến dần đến dữ liệu training, sẽ dẫn đến đường phân chia \"khít hơn\". Để tìm hiểu về giá trị của $\\gamma$, ta hãy tăng giá trị của nó lên 100:"
   ]
  },
  {
   "cell_type": "markdown",
   "metadata": {},
   "source": [
    "![](gamma100.png)"
   ]
  },
  {
   "cell_type": "markdown",
   "metadata": {},
   "source": [
    "Mặc dù model fit dữ liệu vô cùng tốt, nhưng mà như ta thấy thì nó cho kết quả tổng quát vô cùng tệ, tức là nó ko có khả năng tổng quát hóa được. Trong mô tả trên thì ta thấy rằng tham số $\\gamma$ đóng vai trò quan trọng trong việc điều chỉnh overfitting hoặc variance khi mà thuật toán nó dễ bị biến đổi trong dữ liệu train của chúng ta.\n"
   ]
  }
 ],
 "metadata": {
  "kernelspec": {
   "display_name": "env3",
   "language": "python",
   "name": "env3"
  },
  "language_info": {
   "codemirror_mode": {
    "name": "ipython",
    "version": 3
   },
   "file_extension": ".py",
   "mimetype": "text/x-python",
   "name": "python",
   "nbconvert_exporter": "python",
   "pygments_lexer": "ipython3",
   "version": "3.6.9"
  }
 },
 "nbformat": 4,
 "nbformat_minor": 2
}
