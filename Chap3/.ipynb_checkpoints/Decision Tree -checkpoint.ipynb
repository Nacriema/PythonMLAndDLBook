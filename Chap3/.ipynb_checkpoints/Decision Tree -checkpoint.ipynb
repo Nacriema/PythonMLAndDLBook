{
 "cells": [
  {
   "cell_type": "markdown",
   "metadata": {},
   "source": [
    "# Decision tree learning\n",
    "\n",
    "**Decision tree** là một trong những model thú vị nếu như chúng ta quan tâm đến khả năng suy luận. Giống như cái tên \"decision tree\" của nó, ta có thể nghĩ ngay đến model này có thể chia nhỏ dữ liệu của chúng ta bằng cách đưa ra quyết định dựa trên việc hỏi một chuỗi các câu hỏi.\n",
    "\n",
    "Xem xét một ví dụ mà ta sử dụng decision tree để quyết định hành động trong ngày:\n",
    "\n",
    "![img](dt1.png)\n",
    "\n",
    "Dựa trên những đặc tính trong dữ liệu training của mình, một mô hình cây quyết định học chuỗi những câu hỏi để suy luận ra nhãn class label cho những mẫu đó. Mặc dù trong hình trên mô tả concept của decision tree là dựa trên biến categoricals variables, concept tương tự được áp dụng nếu như features của chúng ta là số thực, giống như dữ liệu Iris dataset. Ví dụ, ta có thể định nghĩa giá trị cut-off value dựa trên thuộc tính **sepal width** bằng câu hỏi nhị phân: \"Có phải sepal width $\\geq$ 2.8cm?\"\n",
    "\n",
    "Sử dụng thuật toán quyết định này, ta bắt đầu tại giá trị root của cây và chia dữ liệu dựa trên thằng thuộc tính cho chúng ta giá trị **information gain (IG)** tức độ lợi thông tin là lớn nhất, giá trị này sẽ được giới thiệu cụ thể ở phần sau. Trong toàn bộ quá trình, ta lặp lại bước chia này tại mỗi một node con (child node) cho đến node lá là trong sạch, tức độ nhiễu thông tin không còn nữa, và tại đó ta có thể chắc chắn class là gì. Trong thực tế, điều này có thể dẫn đến một cây với rất nhiều node, và dễ dấn đến chuyện overfitting. Do vậy, chúng ta cần phải tỉa **prune** cây bằng cách thiết lập một số giới hạn cho cái chiều sâu tối đa của cây.\n",
    "\n"
   ]
  },
  {
   "cell_type": "markdown",
   "metadata": {},
   "source": [
    "## Maximizing IG - getting the most bang for your buck\n",
    "\n",
    "Để chia node dưới dạng chọn thông tin có lợi nhất, ta cần định nghĩa một hàm mục tiêu cần tối ưu trong tree learning algorithm. Ở đây, hàm mục tiêu của ta là cực đại giá trị IG tại mỗi lần chia, hàm IG được định nghĩa như sau: \n",
    "\n"
   ]
  },
  {
   "cell_type": "markdown",
   "metadata": {},
   "source": [
    "![al](https://latex.codecogs.com/gif.latex?IG%28D_%7Bp%7D%2C%20f%29%3DI%28D_%7Bp%7D%29%20-%20%5Csum_%7Bj%3D1%7D%5E%7Bm%7D%5Cfrac%7BN_%7Bj%7D%7D%7BN_%7Bp%7D%7DI%28D_%7Bj%7D%29)"
   ]
  },
  {
   "cell_type": "markdown",
   "metadata": {},
   "source": [
    "Với f là **feature** mà chúng ta muốn thực hiện chia tại nó; $D_{p} và D_{j}$ là dữ liệu của parent và node con thứ jth; I là là độ đo **impurity** (độ đo tạp chất); $N_{p}$ là số lượng dữ liệu train tại node cha; và $N_{j}$ là số lượng của các mẫu trong node con thứ jth. Như chúng ta thấy, hàm độ lợi thông tin đơn giản chỉ là hiệu của **impurify - độ tạp chất** của node cha và tổng các **độ đục** của các thằng con của nó - độ đục của các node con càng nhỏ thì độ lợi nó tăng lên. Tuy nhiên, để đơn giản và giảm thiêu không gian trạng thái, phần lớn các thư viện (bao gồm sklearn) chỉ cài đặt cây quyết định nhị phân thôi. Điều đó có nghĩa là mỗi node cha được chia thành hai node con, $D_{left}$ và $D_{right}$, tức là công thức ở trên trở thành:\n",
    "\n"
   ]
  },
  {
   "cell_type": "markdown",
   "metadata": {},
   "source": [
    "![](https://latex.codecogs.com/gif.latex?IG%28D_%7Bp%7D%2C%20f%29%3DI%28D_%7Bp%7D%29%20-%20%5Cfrac%7BN_%7Bleft%7D%7D%7BN_%7Bp%7D%7DI%28D_%7Bleft%7D%29%20-%5Cfrac%7BN_%7Bright%7D%7D%7BN_%7Bp%7D%7DI%28D_%7Bright%7D%29)"
   ]
  },
  {
   "cell_type": "markdown",
   "metadata": {},
   "source": [
    "Ba loại độ đo dùng để đo độ tạp chất thường được sử dụng trong binary decision tree là **Gini impurity**($I_{G}$), **entropy**($I_{H}$) và **classification error** ($I_{E}$). Giờ ta bắt đầu với định nghĩa của **entropy** cho tất cả các **non-empty** classes (p(i|t) $\\neq$ 0) - tức là xác suất để tồn tại một thực thể t khi có i là có tồn tại:\n",
    "\n",
    "\n"
   ]
  },
  {
   "cell_type": "markdown",
   "metadata": {},
   "source": [
    "![](https://latex.codecogs.com/gif.latex?I_%7BH%7D%28t%29%20%3D%20-%20%5Csum%20p%28i%7Ct%29log_%7B2%7Dp%28i%7Ct%29)"
   ]
  },
  {
   "cell_type": "markdown",
   "metadata": {},
   "source": [
    "Ở đây, p(i|t) là tỉ lệ mẫu thuộc về class i đối với một node cụ thể cho trước t. Do đó cái Entropy bằng 0 nếu như tất cả các mẫu trong node đó cùng thuộc vào một mẫu class chung, và cực đại sẽ bẳng 1 nếu như ta có một uniform class distribution (xác suất của các class mà thuộc vào các lớp là chia đều cho nhau). Ví dụ, trong phân loại nhị phân, gía trị của entropy sẽ bằng 0 nêú như p(i=1|t) = 1 hoặc là p(i=0|t) = 0. Nếu như class được phân phối đều với p(i=1|t)=0.5 thì lúc đó entropy có giá trị là 1. Do đó, chúng ta có thể nói rằng tiêu chí entropy cố gắng tối đa hóa thông tin lẫn nhau trong cây.\n",
    "\n",
    "Độ đo tạp chất **Gini impurty** có thể được hiểu là một tiêu chí đánh giá để tối thiểu hóa xác suất phân loại sai (misclassification):\n"
   ]
  },
  {
   "cell_type": "markdown",
   "metadata": {},
   "source": [
    "![](https://latex.codecogs.com/gif.latex?I_%7BG%7D%28t%29%3D%5Csum_%7Bi%3D1%7D%5E%7Bc%7Dp%28i%7Ct%29%281%20-%20p%28i%7Ct%29%29%20%3D%201%20-%20%5Csum_%7Bi%3D1%7D%5E%7Bc%7Dp%28i%7Ct%29%5E%7B2%7D)"
   ]
  },
  {
   "cell_type": "markdown",
   "metadata": {},
   "source": [
    "Tương tự như như entropy, Gini impurity nó đạt tối đa nếu như các class bị trộn hoàn hảo, ví dụ trong phân loại nhị phân (c = 2):"
   ]
  },
  {
   "cell_type": "markdown",
   "metadata": {},
   "source": [
    "![](https://latex.codecogs.com/gif.latex?I_%7BG%7D%28t%29%3D%201%20-%20%5Csum_%7Bi%3D1%7D%5E%7B2%7D0.5%5E%7B2%7D%3D0.5)"
   ]
  },
  {
   "cell_type": "markdown",
   "metadata": {},
   "source": [
    "Tuy nhiên, trong thực tế, cả Gini impurity và entropy nó trả ra kết quả tương tự nhau, và đôi khi là không nên dành quá nhiều thời gian để đánh giá cây sử dụng các tiêu chí đánh giá độ đục khác nhau, thay vào đó là thực nghiệm với những thuật toán cắt tỉa.\n",
    "\n",
    "Một tiêu chí đo độ đục nữa là **classification error**:\n"
   ]
  },
  {
   "cell_type": "markdown",
   "metadata": {},
   "source": [
    "![](https://latex.codecogs.com/gif.latex?I_%7BE%7D%28t%29%3D%201%20-%20max%28p%28i%7Ct%29%29)"
   ]
  },
  {
   "cell_type": "markdown",
   "metadata": {},
   "source": [
    "Đây là một tiêu chí đánh giá có ích nhưng không được khuyến khích dùng trong việc phát triển cây phân tích, bởi vì nó không có được linh hoạt khi thay đổi xác suất của các class trong mỗi node. Ta có thể minh họa điều này bằng cách xem xét 2 trường hợp phân chia class trong hình bên dưới: \n"
   ]
  },
  {
   "cell_type": "markdown",
   "metadata": {},
   "source": [
    "![](E.png)"
   ]
  },
  {
   "cell_type": "markdown",
   "metadata": {},
   "source": [
    "Ta bắt đầu với tập dataset $D_{p}$ ở node cha, gồm 40 mẫu thuộc lớp 1 và 40 mẫu thuộc lớp 2, ta bắt đầu chia chúng thành 2 lớp con, $D_{left}$ và $D_{right}$. Độ lợi thông tin mà chúng ta sử dụng classification error như là tiêu chí chia (splitting criterion) sẽ là như nhau ($IG_{E}$ = 0.25) trong cả 2 trường hợp A và B:\n",
    "\n"
   ]
  },
  {
   "cell_type": "markdown",
   "metadata": {},
   "source": [
    "![](pr1.png)"
   ]
  },
  {
   "cell_type": "markdown",
   "metadata": {},
   "source": [
    "Tuy nhiên, chỉ số **Gini** sẽ ưu tiên dùng hơn vì nó tính ra được giá trị độ lợi thông tin trong trường hợp cách chia B($IG_{G}$ = 0.1666) so với lại A($IG_{G}$ = 0.125):"
   ]
  },
  {
   "cell_type": "markdown",
   "metadata": {},
   "source": [
    "![](pr2.png)"
   ]
  },
  {
   "cell_type": "markdown",
   "metadata": {},
   "source": [
    "Tương tự đối với khi chúng ta sử dụng tiêu chí đánh giá là hàm **Entropy** trong trường hợp B ($IG_{H}$ = 0.31) so với kịch bản A ($IG_{J}$ = 0.19)"
   ]
  },
  {
   "cell_type": "markdown",
   "metadata": {},
   "source": [
    "![](pr3.png)"
   ]
  },
  {
   "cell_type": "markdown",
   "metadata": {},
   "source": [
    "Để so sánh 3 loại độ đo tính trong suốt này, ta sẽ vẽ chỉ số impurty cho khoảng xác suất [0, 1] đối với class 1. Chú ý là ta bổ sung thêm phiên bản scaled của thằng entropy(entropy/2) để quan sát được thằng **Gini impurity** và phương thức đo trung bình giữa 2 thằng **entropy** và **classification error**. Code như phía bên dưới: \n"
   ]
  },
  {
   "cell_type": "code",
   "execution_count": 1,
   "metadata": {},
   "outputs": [
    {
     "data": {
      "image/png": "[encoded data removed]",
      "text/plain": [
       "<Figure size 432x288 with 1 Axes>"
      ]
     },
     "metadata": {
      "needs_background": "light"
     },
     "output_type": "display_data"
    }
   ],
   "source": [
    "import matplotlib.pyplot as plt\n",
    "import numpy as np\n",
    "\n",
    "\n",
    "def gini(p):\n",
    "    return p * (1 - p) + (1 - p) * (1 - (1 - p))\n",
    "\n",
    "\n",
    "def entropy(p):\n",
    "    return - p*np.log2(p) - (1 - p)*np.log2((1 - p))\n",
    "\n",
    "\n",
    "def error(p):\n",
    "    return 1 - np.max([p, 1 - p])\n",
    "\n",
    "\n",
    "x = np.arange(0.0, 1.0, 0.01)\n",
    "ent = [entropy(p) if p != 0 else None for p in x]\n",
    "sc_ent = [e * 0.5 if e else None for e in ent]\n",
    "err = [error(i) for i in x]\n",
    "fig = plt.figure()\n",
    "ax = plt.subplot(111)\n",
    "for i, lab, ls, c in zip([ent, sc_ent, gini(x), err], ['Entropy', 'Entropy(scaled)', 'Gini impurity', 'Missclassification'\n",
    "                                                                                                      'error'],\n",
    "                         ['-', '-', '--', '-.'],\n",
    "                         ['black', 'lightgray', 'red', 'green', 'cyan']):\n",
    "    line = ax.plot(x, i, label=lab, linestyle=ls, lw=2, color=c)\n",
    "\n",
    "ax.legend(loc='upper center', bbox_to_anchor=(0.5, 1.15), ncol=5, fancybox=True, shadow=False)\n",
    "ax.axhline(y=0.5, linewidth=1, color='k', linestyle='--')\n",
    "ax.axhline(y=1.0, linewidth=1, color='k', linestyle='--')\n",
    "plt.ylim([0, 1.1])\n",
    "plt.xlabel('p(i=1)')\n",
    "plt.ylabel('impurity index')\n",
    "plt.show()"
   ]
  },
  {
   "cell_type": "markdown",
   "metadata": {},
   "source": [
    "## Building a decision tree\n",
    "\n",
    "Decision trees có thể tạo ra các đường ranh giới phân chia phức tạp bằng cách chia không gian các thuộc tính thành các hình chữ nhật. Tuy nhiên, ta cần phải cẩn thận bởi vì cây quyết định càng sâu thì cái độ phức tạp của đường biên càng lớn, điều này rất dễ dẫn đến hiện tượng overfitting. Sử dụng thư viện sklearn, ta có thể train cây quyết định với chiều sâu lớn nhất cho phép là 4, sử dụng độ đo **Gini impurity** là tiêu chí để đánh giá độ đục. Mặc dù là feature scaling có thể sẽ cần cho mục đích minh họa hình vẽ, chú ý rằng feature scaling không phải là bắt buộc đối với thuật toán cây quyết định.Trong thư viện sklearn, thì decision tree được xây dựng trên thuật toán CART (Classification and Regression Trees) [**source**](https://stackoverflow.com/questions/49135573/type-of-decision-tree-algorithm-by-sklearn). Code về phần này mình để bên dưới: \n",
    "\n"
   ]
  },
  {
   "cell_type": "markdown",
   "metadata": {},
   "source": [
    "```python\n",
    "# import cac thu vien can thiet \n",
    "from sklearn.tree import DecisionTreeClassifier\n",
    "from Visualization.BoundaryVisual import plot_decision_regions\n",
    "from sklearn.datasets import load_iris\n",
    "from sklearn.model_selection import train_test_split\n",
    "import matplotlib.pyplot as plt\n",
    "import numpy as np\n",
    "\n",
    "\n",
    "# Chuan bi du lieu\n",
    "iris = load_iris()\n",
    "X = iris.data[:, [2, 3]]\n",
    "y = iris.target\n",
    "print(X)\n",
    "X_train, X_test, y_train, y_test = train_test_split(X, y, test_size=0.3, random_state=1, stratify=y)\n",
    "\n",
    "# Thiet lap model\n",
    "tree_model = DecisionTreeClassifier(criterion='gini', max_depth=4, random_state=1)\n",
    "tree_model.fit(X_train, y_train)\n",
    "X_combined = np.vstack((X_train, X_test))\n",
    "y_combined = np.hstack((y_train, y_test))\n",
    "\n",
    "# Minh hoa vung du doan cua model\n",
    "plot_decision_regions(X_combined, y_combined, classifier=tree_model, test_idx=range(105, 150))\n",
    "plt.xlabel('petal length [cm]')\n",
    "plt.ylabel('petal width [cm]')\n",
    "plt.legend(loc='upper left')\n",
    "plt.tight_layout()\n",
    "plt.show()\n",
    "```"
   ]
  },
  {
   "cell_type": "markdown",
   "metadata": {},
   "source": [
    "Sau khi chạy, ta được dạng phân chia ranh giới của model train theo mô hình decision tree như hình vẽ: \n",
    "\n",
    "![](decisiontree.png)"
   ]
  },
  {
   "cell_type": "markdown",
   "metadata": {},
   "source": [
    "Một tính năng thú vị trong thư viện sklearn đó là nó cho phép chúng ta có thể mô tả cách rẽ nhánh và đánh giá của mô hình cây sau khi train bằng cách thực hiện đoạn code sau: \n",
    "\n",
    "```python \n",
    "from sklearn import tree\n",
    "tree.plot_tree(tree_model)\n",
    "plt.show()\n",
    "```"
   ]
  },
  {
   "cell_type": "markdown",
   "metadata": {},
   "source": [
    "![tree](tree.png)"
   ]
  },
  {
   "cell_type": "markdown",
   "metadata": {},
   "source": [
    "Tuy nhiên, ta có thể dùng Graphviz như là backend cho việc vẽ sklearn decision trees. Ta tham khảo tại [link](http://www.graphviz.org). Sau khi cài đặt Graphviz, ta có thể cài thêm thằng PyDotPlus trực tiếp thông qua lệnh pip:\n",
    "\n",
    "```python\n",
    "pip install pydotplus\n",
    "```\n",
    "\n",
    "### Installing PyDotPlus prerequisites\n",
    "\n",
    "Chú ý rằng trong một số hệ thống, ta có thể phải cài đặt PyDotPlus thông qua cách thực thi lệnh:\n",
    "\n",
    "pip3 install graphviz\n",
    "\n",
    "pip3 install pyparsing\n"
   ]
  },
  {
   "cell_type": "markdown",
   "metadata": {},
   "source": [
    "Đoạn code sau sẽ tạo ra ảnh của decision tree theo định dạng PNG.\n",
    "\n",
    "```python\n",
    "from pydotplus import graph_from_dot_data\n",
    "from sklearn.tree import export_graphviz\n",
    "dot_data = export_graphviz(tree_model,\n",
    "filled=True,\n",
    "rounded=True,\n",
    "class_names=['Setosa',\n",
    "'Versicolor',\n",
    "'Virginica'],\n",
    "feature_names=['petal length',\n",
    "'petal width'],\n",
    "out_file=None)\n",
    "graph = graph_from_dot_data(dot_data)\n",
    "graph.write_png('tree.png')\n",
    "```\n",
    "\n",
    "Ta sẽ được cái cây minh hoạ như sau: \n",
    "![](pydot.png)\n",
    "\n",
    "Nhìn vào trong cái cây quyết định này, ta thấy nó phân lọai khá tốt. Tuy nhiên, sklearn không có thiết lập phần cho phép chúng ta thực hiện cắt tỉa cây một cách tự động. Tuy nhiên ta có thể quay lại với code của mìnhm và chỉnh sửa tham số max_depth = 3, và so sánh nó với lại model hiện tại của mình."
   ]
  },
  {
   "cell_type": "markdown",
   "metadata": {},
   "source": [
    "## Combining multiple decision trees via random forests\n",
    "\n",
    "Việc kết hợp các methods lại với nhau là phổ biến trong ứng dụng của machine learning bởi vì chúng cho khả năng phân loại tốt và hạn chế tình trạng overfitting. Ta sẽ thảo luận phương pháp kết hợp này, bao gồm **bagging** và **boosting** trong chương 7. Giờ tìm hiểu về decision tree dựa vào thuật toán **random forest**, được biết đến nhiều bởi khả năng ứng dụng và mở rộng tốt của nó. Một random forest có thể được xem là một **ensemble** của các decision trees. Ý tưởng của **random forest** là trung bình hóa cái multiple (hay còn gọi là độ sâu) của các decision trees mà mỗi thằng vượt qua được cái high variance để tạo nên một model tốt hơn có khả năng tổng quát dữ liệu tốt hơn và ít bị overfitting hơn. Thuật toán **random forest** có thể được áp dụng thông qua 4 bước: \n",
    "\n",
    "1. Vẽ một cái **bootstrap** random với size n (ngẫu nhiên chọn n mẫu từ tập dữ liệu train với sự thay thế (with replacement))\n",
    "\n",
    "2. Phát triển decision tree từ mẫu boostrap.Tại mỗi node: \n",
    "    a. Ngẫu nhiên chọn d features without replacement.\n",
    "    b. Chia node bằng cách sử dụng feature cho kết quả chia tốt nhất theo hàm mục tiêu, ví dụ, tối ưu hóa hàm information gain.\n",
    "  \n",
    "3. Lặp lại các bước 1-2 k lần.\n",
    "4. Tổng hợp dự đoán từ mỗi cây để gắn nhãn thông qua **majority vote** . Majority voting sẽ được trình bày chi tiết trong Chương 7\n",
    "\n",
    "Ta nên luuw ý một sửa đổi nhỏ trong bước 2 khi ta train một cá nhân cây quyết định: thay vì đánh giá toàn bộ features để xác định được thằng nào cho ra kết quả chia tốt nhất, ta chỉ cần xét một tổ hợp ngẫu nhiên trong số chúng thôi.\n",
    "\n",
    "\n",
    "### Sampling with and without replacement\n",
    "\n",
    "Mục này để giải thích thuật ngữ **with replacement** và **without replacement**. Lấy một ví dụ cụ thể, giả sử chúng ta chơi một trò chơi xổ số nơi mà ta lấy ngẫu nhiên các số từ lồng cầu. Ta bắt đầu bằng vòng cầu chưa 5 giá trị số khác nhau: 0, 1, 2, 3, 4 và ta rút ra đúng một số tại mỗi lần rút. Trong lượt đầu tiên, xác suất để ta rút trúng một số bất kỳ là 1/5. Bây giờ, trong **sampling without replacement**, ta không cho cái số đã rút đó vào lại trong lồng sau mỗi lượt rút. Kết quả là xác suất khi rút một số từ tập các chữ số còn lại phụ thuộc vào lượt rút trước đó. Ví dụ, nếu ta còn tập các số 0, 1, 2 và 4, xác suất rút số 0 sẽ là 1/4 trong lượt tiếp theo.\n",
    "\n",
    "Ngược lại, đối với **random sampling with replacement**, ta luôn luôn bỏ lại phần tử mà ta đã rút ra vào lại lồng, do đó xác suất mà ta rút một số bất kỳ không thay đổi; và ta có thể rút cùng một số nhiều lần. Nói cách khác, trong lấy mẫu với replacement , thì samples (các số trong ví dụ) sẽ độc lập với nhau và có giá trị **covariance** ([link](https://stats.stackexchange.com/questions/12842/covariance-and-independence)) là 0. Ví dụ, kết quả sau 5 lượt rút ngẫu nhiên số có thể như thế này:\n",
    "    * Random sampling without replacement: 2, 1, 3, 4, 0\n",
    "    * Random sampling with replacement: 1, 3, 3, 4, 1"
   ]
  },
  {
   "cell_type": "markdown",
   "metadata": {},
   "source": [
    "Mặc dù cái random forest nó khó hiểu hơn decision trees, nhưng mà lợi ích lớn mà random forest mang lại đó chính là ta không cần phải lo lắng quá nhiều về việc chọn giá trị cho các tham số đầu vào hyperparameter. Ta cũng không cần phải cắt tỉa random forest bởi vì mô hình ensemble model này là nhấn mạnh đến sự nhiêũ mà từng cá nhân decisision tree mang lại. Tham số duy nhất mà chúng ta cần quan tâm đó chính là số lượng cây k, (trong bước 3) mà chúng ta chọn ra từ random forest. Thông thường, số lượng cây chọn càng nhiều thì khả năng dự đoán của nó tăng lên do cái chi phí tính toán nó cũng tăng theo.\n",
    "\n",
    "Mặc dù nó ít phổ biến trong thực tiễn, nhưng mà các hyperparameters khác của random forest có thể được tối ưu hóa được bằng cách sử dụng các kỹ thuật tối ưu hóa được thảo luận trong chương 6 để tối ưu cái size của boostrap sample (tại bước 1) và số lượng features d được chọn ngẫu nhiên cho việc phân nhánh (tại bước 2.a). Thông qua sample size n của bootstrap sample, ta có thể điều chỉnh được thông số **bias-variance tradeoff** của random forest. "
   ]
  }
 ],
 "metadata": {
  "kernelspec": {
   "display_name": "env3",
   "language": "python",
   "name": "env3"
  },
  "language_info": {
   "codemirror_mode": {
    "name": "ipython",
    "version": 3
   },
   "file_extension": ".py",
   "mimetype": "text/x-python",
   "name": "python",
   "nbconvert_exporter": "python",
   "pygments_lexer": "ipython3",
   "version": "3.6.9"
  }
 },
 "nbformat": 4,
 "nbformat_minor": 2
}
